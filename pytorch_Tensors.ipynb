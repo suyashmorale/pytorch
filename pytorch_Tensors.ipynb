{
  "nbformat": 4,
  "nbformat_minor": 0,
  "metadata": {
    "colab": {
      "provenance": []
    },
    "kernelspec": {
      "name": "python3",
      "display_name": "Python 3"
    },
    "language_info": {
      "name": "python"
    }
  },
  "cells": [
    {
      "cell_type": "code",
      "execution_count": 3,
      "metadata": {
        "id": "rjOn-dwA0F8f"
      },
      "outputs": [],
      "source": [
        "import torch"
      ]
    },
    {
      "cell_type": "code",
      "source": [
        "print(torch.__version__)"
      ],
      "metadata": {
        "colab": {
          "base_uri": "https://localhost:8080/"
        },
        "id": "W41Vs_dR2n-b",
        "outputId": "948060b7-0bcf-433a-f0e0-84224955e36d"
      },
      "execution_count": 4,
      "outputs": [
        {
          "output_type": "stream",
          "name": "stdout",
          "text": [
            "2.5.1+cu121\n"
          ]
        }
      ]
    },
    {
      "cell_type": "code",
      "source": [
        "if torch.cuda.is_available():\n",
        "    print(\"cuda is available\")\n",
        "    print(f\"using GPU: {torch.cuda.get_device_name(0)}\")\n",
        "else:\n",
        "    print(\"cuda is not available\")"
      ],
      "metadata": {
        "colab": {
          "base_uri": "https://localhost:8080/"
        },
        "id": "uw9aThRl214h",
        "outputId": "998263ae-72c9-4d6d-fd12-96cc824a10de"
      },
      "execution_count": null,
      "outputs": [
        {
          "output_type": "stream",
          "name": "stdout",
          "text": [
            "cuda is not available\n"
          ]
        }
      ]
    },
    {
      "cell_type": "markdown",
      "source": [
        "## Creating Tensor"
      ],
      "metadata": {
        "id": "3paCXxJa3dMU"
      }
    },
    {
      "cell_type": "code",
      "source": [
        "# using empty -> functions allocates memmory you mention, and gives values which are already available on that memory\n",
        "a = torch.empty(4,2,3)\n",
        "print(a)"
      ],
      "metadata": {
        "colab": {
          "base_uri": "https://localhost:8080/"
        },
        "id": "miREbpqd28L3",
        "outputId": "cdb7bcc9-9e1d-43cb-ce31-54c53f311396"
      },
      "execution_count": null,
      "outputs": [
        {
          "output_type": "stream",
          "name": "stdout",
          "text": [
            "tensor([[[-7.0571e-05,  3.1866e-41, -7.0569e-05],\n",
            "         [ 3.1866e-41,  2.3822e-44,  0.0000e+00]],\n",
            "\n",
            "        [[-1.6527e-08,  3.1866e-41, -7.0571e-05],\n",
            "         [ 3.1866e-41,  0.0000e+00,  0.0000e+00]],\n",
            "\n",
            "        [[ 4.2039e-45,  8.4078e-45,  4.2039e-45],\n",
            "         [ 9.8091e-45,  1.6241e-42,  4.4637e-41]],\n",
            "\n",
            "        [[-7.0572e-05,  3.1866e-41,  2.2421e-44],\n",
            "         [ 3.3631e-44, -7.0571e-05,  3.1866e-41]]])\n"
          ]
        }
      ]
    },
    {
      "cell_type": "code",
      "source": [
        "# check type\n",
        "type(a)"
      ],
      "metadata": {
        "colab": {
          "base_uri": "https://localhost:8080/"
        },
        "id": "YG85F1jw3hY5",
        "outputId": "676c1a29-2d81-4b34-d502-1e5d839d99ed"
      },
      "execution_count": null,
      "outputs": [
        {
          "output_type": "execute_result",
          "data": {
            "text/plain": [
              "torch.Tensor"
            ]
          },
          "metadata": {},
          "execution_count": 5
        }
      ]
    },
    {
      "cell_type": "code",
      "source": [
        "# using zeros\n",
        "b = torch.zeros(2,4)\n",
        "print(b)"
      ],
      "metadata": {
        "colab": {
          "base_uri": "https://localhost:8080/"
        },
        "id": "ecYIkpf53p1o",
        "outputId": "c9c2793e-f69c-472e-b124-9f35e1c5f9dd"
      },
      "execution_count": null,
      "outputs": [
        {
          "output_type": "stream",
          "name": "stdout",
          "text": [
            "tensor([[0., 0., 0., 0.],\n",
            "        [0., 0., 0., 0.]])\n"
          ]
        }
      ]
    },
    {
      "cell_type": "code",
      "source": [
        "# using ones\n",
        "c = torch.ones(2,4)\n",
        "print(c)"
      ],
      "metadata": {
        "colab": {
          "base_uri": "https://localhost:8080/"
        },
        "id": "Eq-4o0jq3sYM",
        "outputId": "33d26bff-7d0e-4279-dfff-f80484fa4c26"
      },
      "execution_count": null,
      "outputs": [
        {
          "output_type": "stream",
          "name": "stdout",
          "text": [
            "tensor([[1., 1., 1., 1.],\n",
            "        [1., 1., 1., 1.]])\n"
          ]
        }
      ]
    },
    {
      "cell_type": "code",
      "source": [
        "# using rand\n",
        "\n",
        "\"\"\"torch.rand() generates values uniformly distributed between 0 and 1\n",
        "(inclusive of 0 but exclusive of 1). This means all the random values it produces\n",
        "will lie in the range [0, 1).\"\"\"\n",
        "\n",
        "d = torch.rand(2,3)\n",
        "print(d)"
      ],
      "metadata": {
        "colab": {
          "base_uri": "https://localhost:8080/"
        },
        "id": "d3fRzvUr3viX",
        "outputId": "e5fc0e3e-0838-4662-ccaa-2fe2eec6a95f"
      },
      "execution_count": null,
      "outputs": [
        {
          "output_type": "stream",
          "name": "stdout",
          "text": [
            "tensor([[0.8342, 0.6152, 0.1734],\n",
            "        [0.0600, 0.1897, 0.6493]])\n"
          ]
        }
      ]
    },
    {
      "cell_type": "markdown",
      "source": [
        "If you want random numbers in a different range, you can scale and shift the values. For example:\n",
        "\n",
        "To generate numbers in the range [a, b]:\n",
        "result\n",
        "=\n",
        "𝑎\n",
        "+\n",
        "(\n",
        "𝑏\n",
        "−\n",
        "𝑎\n",
        ")\n",
        "×\n",
        "torch.rand()"
      ],
      "metadata": {
        "id": "dkOBHNjeAT0p"
      }
    },
    {
      "cell_type": "code",
      "source": [
        "# Generate a 2x3 tensor with random values in the range [10, 20)\n",
        "a, b = 10, 20\n",
        "random_tensor_scaled = a + (b - a) * torch.rand(2, 3)\n",
        "print(random_tensor_scaled)"
      ],
      "metadata": {
        "colab": {
          "base_uri": "https://localhost:8080/"
        },
        "id": "IjKqZvyK3z2l",
        "outputId": "bafc5a07-2c95-4f60-8c82-39321b12d166"
      },
      "execution_count": null,
      "outputs": [
        {
          "output_type": "stream",
          "name": "stdout",
          "text": [
            "tensor([[13.0228, 10.9065, 10.5161],\n",
            "        [17.6037, 16.0777, 12.2646]])\n"
          ]
        }
      ]
    },
    {
      "cell_type": "code",
      "source": [
        "t1 = torch.rand(2,3)\n",
        "t2 = a + (b-a) * torch.rand(2,3)\n",
        "\n",
        "print(\"t1 : \\n\", t1)\n",
        "print(\"\\n\\nt2 : \\n\", t2)"
      ],
      "metadata": {
        "colab": {
          "base_uri": "https://localhost:8080/"
        },
        "id": "B98cqjAOAue0",
        "outputId": "e19a4f76-948c-4b27-ad4b-f81e9e8c5d94"
      },
      "execution_count": null,
      "outputs": [
        {
          "output_type": "stream",
          "name": "stdout",
          "text": [
            "t1 : \n",
            " tensor([[0.4910, 0.1540, 0.7716],\n",
            "        [0.4840, 0.8972, 0.5602]])\n",
            "\n",
            "\n",
            "t2 : \n",
            " tensor([[13.5817, 17.7103, 17.4324],\n",
            "        [18.5232, 10.9784, 11.5947]])\n"
          ]
        }
      ]
    },
    {
      "cell_type": "code",
      "source": [
        "# manual_seed -> if we want to reproduce same random numbers each time we use seed\n",
        "torch.manual_seed(42)\n",
        "e = torch.rand(2,3)\n",
        "print(e)"
      ],
      "metadata": {
        "colab": {
          "base_uri": "https://localhost:8080/"
        },
        "id": "rj9GNZip33iy",
        "outputId": "eed7e8ea-431d-4da6-cbd6-e4854daeaeae"
      },
      "execution_count": null,
      "outputs": [
        {
          "output_type": "stream",
          "name": "stdout",
          "text": [
            "tensor([[0.8823, 0.9150, 0.3829],\n",
            "        [0.9593, 0.3904, 0.6009]])\n"
          ]
        }
      ]
    },
    {
      "cell_type": "code",
      "source": [
        "torch.manual_seed(42)\n",
        "f = torch.rand(2,3)\n",
        "print(f)"
      ],
      "metadata": {
        "colab": {
          "base_uri": "https://localhost:8080/"
        },
        "id": "CSFDdi0X5gsW",
        "outputId": "e4898eb3-1423-4249-9725-bed198186b57"
      },
      "execution_count": null,
      "outputs": [
        {
          "output_type": "stream",
          "name": "stdout",
          "text": [
            "tensor([[0.8823, 0.9150, 0.3829],\n",
            "        [0.9593, 0.3904, 0.6009]])\n"
          ]
        }
      ]
    },
    {
      "cell_type": "code",
      "source": [
        "# using tensor\n",
        "g = torch.tensor([[1,2,3],[4,5,6]])\n",
        "print(g)"
      ],
      "metadata": {
        "colab": {
          "base_uri": "https://localhost:8080/"
        },
        "id": "W_fWEGa35kZN",
        "outputId": "af91f3e5-4a43-42a0-a678-2449ded0d982"
      },
      "execution_count": null,
      "outputs": [
        {
          "output_type": "stream",
          "name": "stdout",
          "text": [
            "tensor([[1, 2, 3],\n",
            "        [4, 5, 6]])\n"
          ]
        }
      ]
    },
    {
      "cell_type": "code",
      "source": [
        "h = torch.tensor([[[1,2],[3,4]],[[5,6],[7,8]],[[9,10],[11,12]]])\n",
        "print(h)"
      ],
      "metadata": {
        "colab": {
          "base_uri": "https://localhost:8080/"
        },
        "id": "g70t47Oz5w17",
        "outputId": "3aa4e37f-73c2-4a59-d03d-2003c7bce0c7"
      },
      "execution_count": null,
      "outputs": [
        {
          "output_type": "stream",
          "name": "stdout",
          "text": [
            "tensor([[[ 1,  2],\n",
            "         [ 3,  4]],\n",
            "\n",
            "        [[ 5,  6],\n",
            "         [ 7,  8]],\n",
            "\n",
            "        [[ 9, 10],\n",
            "         [11, 12]]])\n"
          ]
        }
      ]
    },
    {
      "cell_type": "code",
      "source": [
        "print(h.shape)\n",
        "print(type(h))\n",
        "print(h.ndim)\n",
        "print(h.size())"
      ],
      "metadata": {
        "colab": {
          "base_uri": "https://localhost:8080/"
        },
        "id": "O8MYdcBG6Ep2",
        "outputId": "540bb5a5-172d-453d-d5de-4e3c1d208571"
      },
      "execution_count": null,
      "outputs": [
        {
          "output_type": "stream",
          "name": "stdout",
          "text": [
            "torch.Size([3, 2, 2])\n",
            "<class 'torch.Tensor'>\n",
            "3\n",
            "torch.Size([3, 2, 2])\n"
          ]
        }
      ]
    },
    {
      "cell_type": "code",
      "source": [
        "# other ways of creating tensor\n",
        "\n",
        "# arange\n",
        "print(\"using arange => \", torch.arange(3,15,3))\n",
        "\n",
        "# using linspace\n",
        "print(\"using line => \",torch.linspace(1,10,20))\n",
        "\n",
        "# using eye -> identity matrix\n",
        "print(\"using eye => \", torch.eye(5))\n",
        "\n",
        "# using full -> prints desire shapes tensor with desire number in all places\n",
        "print(\"using full => \", torch.full((2,3),4))"
      ],
      "metadata": {
        "colab": {
          "base_uri": "https://localhost:8080/"
        },
        "id": "78tu1fJx6PGY",
        "outputId": "d9ed74bb-18ee-4c6b-a503-97391b0ab781"
      },
      "execution_count": null,
      "outputs": [
        {
          "output_type": "stream",
          "name": "stdout",
          "text": [
            "using arange =>  tensor([ 3,  6,  9, 12])\n",
            "using line =>  tensor([ 1.0000,  1.4737,  1.9474,  2.4211,  2.8947,  3.3684,  3.8421,  4.3158,\n",
            "         4.7895,  5.2632,  5.7368,  6.2105,  6.6842,  7.1579,  7.6316,  8.1053,\n",
            "         8.5789,  9.0526,  9.5263, 10.0000])\n",
            "using eye =>  tensor([[1., 0., 0., 0., 0.],\n",
            "        [0., 1., 0., 0., 0.],\n",
            "        [0., 0., 1., 0., 0.],\n",
            "        [0., 0., 0., 1., 0.],\n",
            "        [0., 0., 0., 0., 1.]])\n",
            "using full =>  tensor([[4, 4, 4],\n",
            "        [4, 4, 4]])\n"
          ]
        }
      ]
    },
    {
      "cell_type": "code",
      "source": [
        "# generating tensor with same shape like other priviously made tensor\n",
        "\n",
        "print(torch.zeros_like(g))\n",
        "print(torch.ones_like(g))\n",
        "print(torch.empty_like(g))"
      ],
      "metadata": {
        "colab": {
          "base_uri": "https://localhost:8080/"
        },
        "id": "uetKPiYt8zCG",
        "outputId": "16b29361-f552-468c-e857-7e26537cd6a4"
      },
      "execution_count": null,
      "outputs": [
        {
          "output_type": "stream",
          "name": "stdout",
          "text": [
            "tensor([[0, 0, 0],\n",
            "        [0, 0, 0]])\n",
            "tensor([[1, 1, 1],\n",
            "        [1, 1, 1]])\n",
            "tensor([[136816132202160, 136816132202160, 136811888246784],\n",
            "        [            449, 136816132202128, 136816132202128]])\n"
          ]
        }
      ]
    },
    {
      "cell_type": "code",
      "source": [
        "# will get error because tensor g have int values and rand function generate float values\n",
        "print(torch.rand_like(g))"
      ],
      "metadata": {
        "colab": {
          "base_uri": "https://localhost:8080/",
          "height": 176
        },
        "id": "I1CnWB1z_KEG",
        "outputId": "5dcb69b7-0c6c-4bcf-fe9b-deb96acd71b0"
      },
      "execution_count": null,
      "outputs": [
        {
          "output_type": "error",
          "ename": "RuntimeError",
          "evalue": "\"check_uniform_bounds\" not implemented for 'Long'",
          "traceback": [
            "\u001b[0;31m---------------------------------------------------------------------------\u001b[0m",
            "\u001b[0;31mRuntimeError\u001b[0m                              Traceback (most recent call last)",
            "\u001b[0;32m<ipython-input-18-0ccfceb710a3>\u001b[0m in \u001b[0;36m<cell line: 2>\u001b[0;34m()\u001b[0m\n\u001b[1;32m      1\u001b[0m \u001b[0;31m# will get error because tensor g have int values and rand function generate float values\u001b[0m\u001b[0;34m\u001b[0m\u001b[0;34m\u001b[0m\u001b[0m\n\u001b[0;32m----> 2\u001b[0;31m \u001b[0mprint\u001b[0m\u001b[0;34m(\u001b[0m\u001b[0mtorch\u001b[0m\u001b[0;34m.\u001b[0m\u001b[0mrand_like\u001b[0m\u001b[0;34m(\u001b[0m\u001b[0mg\u001b[0m\u001b[0;34m)\u001b[0m\u001b[0;34m)\u001b[0m\u001b[0;34m\u001b[0m\u001b[0;34m\u001b[0m\u001b[0m\n\u001b[0m",
            "\u001b[0;31mRuntimeError\u001b[0m: \"check_uniform_bounds\" not implemented for 'Long'"
          ]
        }
      ]
    },
    {
      "cell_type": "code",
      "source": [
        "print(torch.rand_like(g, dtype=torch.float32))"
      ],
      "metadata": {
        "colab": {
          "base_uri": "https://localhost:8080/"
        },
        "id": "4DZcS9m0FOxC",
        "outputId": "c8beddd3-0434-4a62-a261-f2f4b06fac62"
      },
      "execution_count": null,
      "outputs": [
        {
          "output_type": "stream",
          "name": "stdout",
          "text": [
            "tensor([[0.2566, 0.7936, 0.9408],\n",
            "        [0.1332, 0.9346, 0.5936]])\n"
          ]
        }
      ]
    },
    {
      "cell_type": "markdown",
      "source": [
        "## Tensor DataTypes"
      ],
      "metadata": {
        "id": "o9ZKG-pyBa18"
      }
    },
    {
      "cell_type": "code",
      "source": [
        "print(c)\n",
        "print(c.dtype)"
      ],
      "metadata": {
        "colab": {
          "base_uri": "https://localhost:8080/"
        },
        "id": "f_DEVTEo_U-R",
        "outputId": "e47155c5-1a1c-4ed0-895d-a4c12484c781"
      },
      "execution_count": null,
      "outputs": [
        {
          "output_type": "stream",
          "name": "stdout",
          "text": [
            "tensor([[1., 1., 1., 1.],\n",
            "        [1., 1., 1., 1.]])\n",
            "torch.float32\n"
          ]
        }
      ]
    },
    {
      "cell_type": "code",
      "source": [
        "print(g)\n",
        "print(g.dtype)"
      ],
      "metadata": {
        "colab": {
          "base_uri": "https://localhost:8080/"
        },
        "id": "FT1Q6MfsBtCb",
        "outputId": "ee0c904b-7138-404a-90a7-dbd6fc62d9ef"
      },
      "execution_count": null,
      "outputs": [
        {
          "output_type": "stream",
          "name": "stdout",
          "text": [
            "tensor([[1, 2, 3],\n",
            "        [4, 5, 6]])\n",
            "torch.int64\n"
          ]
        }
      ]
    },
    {
      "cell_type": "code",
      "source": [
        "# creating tensor with desire dtye\n",
        "h = torch.tensor([1,2,3], dtype=torch.float32)\n",
        "print(h)\n",
        "print(h.dtype)"
      ],
      "metadata": {
        "colab": {
          "base_uri": "https://localhost:8080/"
        },
        "id": "9YI9KGpTCF5H",
        "outputId": "aa6c2468-b026-415a-ffd4-d51fddb68a2b"
      },
      "execution_count": null,
      "outputs": [
        {
          "output_type": "stream",
          "name": "stdout",
          "text": [
            "tensor([1., 2., 3.])\n",
            "torch.float32\n"
          ]
        }
      ]
    },
    {
      "cell_type": "code",
      "source": [
        "# converting the dtype of already available tensor\n",
        "h.to(dtype=torch.int64)"
      ],
      "metadata": {
        "colab": {
          "base_uri": "https://localhost:8080/"
        },
        "id": "IxdBGpieEhVB",
        "outputId": "e268498c-5b47-4128-e645-2f994eb5b12e"
      },
      "execution_count": null,
      "outputs": [
        {
          "output_type": "execute_result",
          "data": {
            "text/plain": [
              "tensor([1, 2, 3])"
            ]
          },
          "metadata": {},
          "execution_count": 23
        }
      ]
    },
    {
      "cell_type": "markdown",
      "source": [
        "# Tensor operations on CPU"
      ],
      "metadata": {
        "id": "j74BltGSjZha"
      }
    },
    {
      "cell_type": "markdown",
      "source": [
        "## Mathematical operations"
      ],
      "metadata": {
        "id": "29Y94WHBGXy_"
      }
    },
    {
      "cell_type": "markdown",
      "source": [
        "### 1. Scalar operations"
      ],
      "metadata": {
        "id": "tUo_L4WdGbTz"
      }
    },
    {
      "cell_type": "code",
      "source": [
        "x = torch.rand(2,3)\n",
        "print(x)"
      ],
      "metadata": {
        "colab": {
          "base_uri": "https://localhost:8080/"
        },
        "id": "saCl0KtsGwqG",
        "outputId": "8abebe34-e9db-444f-ea03-ebca92b158c2"
      },
      "execution_count": null,
      "outputs": [
        {
          "output_type": "stream",
          "name": "stdout",
          "text": [
            "tensor([[0.8694, 0.5677, 0.7411],\n",
            "        [0.4294, 0.8854, 0.5739]])\n"
          ]
        }
      ]
    },
    {
      "cell_type": "code",
      "source": [
        "# addition\n",
        "print(2 + x)\n",
        "\n",
        "# substraction\n",
        "print(x - 1)\n",
        "\n",
        "# multiplication\n",
        "print(x*6)\n",
        "\n",
        "# division\n",
        "print(x/2)\n",
        "\n",
        "# int division\n",
        "print((x*100) // 3)\n",
        "\n",
        "# mod\n",
        "print((x*100) % 2)\n",
        "\n",
        "# power\n",
        "print(x**2)\n"
      ],
      "metadata": {
        "colab": {
          "base_uri": "https://localhost:8080/"
        },
        "id": "_mIT5uRDFCM_",
        "outputId": "3ec60c2e-b697-43bb-b998-ac440ed8a3ed"
      },
      "execution_count": null,
      "outputs": [
        {
          "output_type": "stream",
          "name": "stdout",
          "text": [
            "tensor([[1.7388, 1.1354, 1.4822],\n",
            "        [0.8588, 1.7709, 1.1478]])\n",
            "tensor([[-0.1306, -0.4323, -0.2589],\n",
            "        [-0.5706, -0.1146, -0.4261]])\n",
            "tensor([[5.2164, 3.4063, 4.4466],\n",
            "        [2.5764, 5.3127, 3.4434]])\n",
            "tensor([[0.4347, 0.2839, 0.3705],\n",
            "        [0.2147, 0.4427, 0.2870]])\n",
            "tensor([[28., 18., 24.],\n",
            "        [14., 29., 19.]])\n",
            "tensor([[0.9404, 0.7715, 0.1094],\n",
            "        [0.9404, 0.5443, 1.3904]])\n",
            "tensor([[0.7559, 0.3223, 0.5492],\n",
            "        [0.1844, 0.7840, 0.3294]])\n"
          ]
        }
      ]
    },
    {
      "cell_type": "markdown",
      "source": [
        "### 2. Element wise operations"
      ],
      "metadata": {
        "id": "Nrjn27jhI5Hd"
      }
    },
    {
      "cell_type": "code",
      "source": [
        "a = torch.rand(2,3)\n",
        "b = torch.rand(2,3)\n",
        "\n",
        "print(f\"a : {a}\")\n",
        "print(f\"b : {b}\")"
      ],
      "metadata": {
        "colab": {
          "base_uri": "https://localhost:8080/"
        },
        "id": "Dv0-SmY4HiXF",
        "outputId": "bca10799-4ed8-4558-effc-38ef1a1f1352"
      },
      "execution_count": null,
      "outputs": [
        {
          "output_type": "stream",
          "name": "stdout",
          "text": [
            "a : tensor([[0.2666, 0.6274, 0.2696],\n",
            "        [0.4414, 0.2969, 0.8317]])\n",
            "b : tensor([[0.1053, 0.2695, 0.3588],\n",
            "        [0.1994, 0.5472, 0.0062]])\n"
          ]
        }
      ]
    },
    {
      "cell_type": "code",
      "source": [
        "# add\n",
        "print(a + b)\n",
        "print(torch.add(a,b))"
      ],
      "metadata": {
        "colab": {
          "base_uri": "https://localhost:8080/"
        },
        "id": "0xLSuHCfJD00",
        "outputId": "a7916213-7e5e-475d-c9cd-dd950092fa68"
      },
      "execution_count": null,
      "outputs": [
        {
          "output_type": "stream",
          "name": "stdout",
          "text": [
            "tensor([[0.3719, 0.8969, 0.6284],\n",
            "        [0.6407, 0.8441, 0.8378]])\n",
            "tensor([[0.3719, 0.8969, 0.6284],\n",
            "        [0.6407, 0.8441, 0.8378]])\n"
          ]
        }
      ]
    },
    {
      "cell_type": "code",
      "source": [
        "# substraction\n",
        "print(a - b)\n",
        "print(torch.sub(a,b))"
      ],
      "metadata": {
        "colab": {
          "base_uri": "https://localhost:8080/"
        },
        "id": "md0DvzTiJJXT",
        "outputId": "bf273f24-c771-437e-f011-6f54f7da8d3b"
      },
      "execution_count": null,
      "outputs": [
        {
          "output_type": "stream",
          "name": "stdout",
          "text": [
            "tensor([[ 0.1613,  0.3580, -0.0892],\n",
            "        [ 0.2420, -0.2503,  0.8255]])\n",
            "tensor([[ 0.1613,  0.3580, -0.0892],\n",
            "        [ 0.2420, -0.2503,  0.8255]])\n"
          ]
        }
      ]
    },
    {
      "cell_type": "code",
      "source": [
        "# multiplication\n",
        "print(a * b)\n",
        "print(torch.mul(a,b))"
      ],
      "metadata": {
        "colab": {
          "base_uri": "https://localhost:8080/"
        },
        "id": "DPrVr_S3JR5N",
        "outputId": "1fd57765-c4c6-45bd-85f7-bc4c2e5ab3eb"
      },
      "execution_count": null,
      "outputs": [
        {
          "output_type": "stream",
          "name": "stdout",
          "text": [
            "tensor([[0.0281, 0.1691, 0.0967],\n",
            "        [0.0880, 0.1625, 0.0051]])\n",
            "tensor([[0.0281, 0.1691, 0.0967],\n",
            "        [0.0880, 0.1625, 0.0051]])\n"
          ]
        }
      ]
    },
    {
      "cell_type": "code",
      "source": [
        "# division\n",
        "print(a / b)\n",
        "print(torch.div(a,b))"
      ],
      "metadata": {
        "colab": {
          "base_uri": "https://localhost:8080/"
        },
        "id": "ESaU42T1JZf5",
        "outputId": "2a5a2714-fb26-4e69-8af7-7aaefb550ce4"
      },
      "execution_count": null,
      "outputs": [
        {
          "output_type": "stream",
          "name": "stdout",
          "text": [
            "tensor([[  2.5313,   2.3282,   0.7515],\n",
            "        [  2.2139,   0.5426, 135.0043]])\n",
            "tensor([[  2.5313,   2.3282,   0.7515],\n",
            "        [  2.2139,   0.5426, 135.0043]])\n"
          ]
        }
      ]
    },
    {
      "cell_type": "code",
      "source": [
        "# power\n",
        "print(a ** b)\n",
        "print(torch.pow(a,b))"
      ],
      "metadata": {
        "colab": {
          "base_uri": "https://localhost:8080/"
        },
        "id": "MvFzrFhMJgEL",
        "outputId": "68091257-dce3-424f-e04b-68dbf96f2e24"
      },
      "execution_count": null,
      "outputs": [
        {
          "output_type": "stream",
          "name": "stdout",
          "text": [
            "tensor([[0.8700, 0.8820, 0.6248],\n",
            "        [0.8495, 0.5146, 0.9989]])\n",
            "tensor([[0.8700, 0.8820, 0.6248],\n",
            "        [0.8495, 0.5146, 0.9989]])\n"
          ]
        }
      ]
    },
    {
      "cell_type": "code",
      "source": [
        "# mod\n",
        "print(a % b)\n",
        "print(torch.remainder(a,b))"
      ],
      "metadata": {
        "colab": {
          "base_uri": "https://localhost:8080/"
        },
        "id": "XdP9BagdJ3NM",
        "outputId": "69247215-0c8d-465c-b8e0-e975fd96ebb7"
      },
      "execution_count": null,
      "outputs": [
        {
          "output_type": "stream",
          "name": "stdout",
          "text": [
            "tensor([[5.5950e-02, 8.8459e-02, 2.6963e-01],\n",
            "        [4.2636e-02, 2.9692e-01, 2.6345e-05]])\n",
            "tensor([[5.5950e-02, 8.8459e-02, 2.6963e-01],\n",
            "        [4.2636e-02, 2.9692e-01, 2.6345e-05]])\n"
          ]
        }
      ]
    },
    {
      "cell_type": "code",
      "source": [
        "# floor division\n",
        "print(a // b)\n",
        "print(torch.floor_divide(a,b))"
      ],
      "metadata": {
        "colab": {
          "base_uri": "https://localhost:8080/"
        },
        "id": "Fue7e-UvJ95C",
        "outputId": "ae72f4db-1b4d-432d-d4dc-a1d8726506fe"
      },
      "execution_count": null,
      "outputs": [
        {
          "output_type": "stream",
          "name": "stdout",
          "text": [
            "tensor([[  2.,   2.,   0.],\n",
            "        [  2.,   0., 135.]])\n",
            "tensor([[  2.,   2.,   0.],\n",
            "        [  2.,   0., 135.]])\n"
          ]
        }
      ]
    },
    {
      "cell_type": "code",
      "source": [
        "# absolute value\n",
        "print(torch.abs(a-b))"
      ],
      "metadata": {
        "colab": {
          "base_uri": "https://localhost:8080/"
        },
        "id": "KbkAZBwwKB30",
        "outputId": "f72ff7aa-504e-4b78-f4cb-3acec6cbed7b"
      },
      "execution_count": null,
      "outputs": [
        {
          "output_type": "stream",
          "name": "stdout",
          "text": [
            "tensor([[0.1613, 0.3580, 0.0892],\n",
            "        [0.2420, 0.2503, 0.8255]])\n"
          ]
        }
      ]
    },
    {
      "cell_type": "code",
      "source": [
        "# negative\n",
        "print(torch.neg(a-b))"
      ],
      "metadata": {
        "colab": {
          "base_uri": "https://localhost:8080/"
        },
        "id": "Ndt2cveYKgJy",
        "outputId": "01e26c33-816e-42a4-ccb6-50bb660ac352"
      },
      "execution_count": null,
      "outputs": [
        {
          "output_type": "stream",
          "name": "stdout",
          "text": [
            "tensor([[-0.1613, -0.3580,  0.0892],\n",
            "        [-0.2420,  0.2503, -0.8255]])\n"
          ]
        }
      ]
    },
    {
      "cell_type": "code",
      "source": [
        "# round\n",
        "print(torch.round(a))"
      ],
      "metadata": {
        "colab": {
          "base_uri": "https://localhost:8080/"
        },
        "id": "LvLIYUdwKmBu",
        "outputId": "765a6762-2124-4d38-9f12-4439483352b9"
      },
      "execution_count": null,
      "outputs": [
        {
          "output_type": "stream",
          "name": "stdout",
          "text": [
            "tensor([[0., 1., 0.],\n",
            "        [0., 0., 1.]])\n"
          ]
        }
      ]
    },
    {
      "cell_type": "code",
      "source": [
        "# ceil\n",
        "print(torch.ceil(a))"
      ],
      "metadata": {
        "id": "GqZ7akscKzHq",
        "colab": {
          "base_uri": "https://localhost:8080/"
        },
        "outputId": "60451527-0423-4b64-cf07-536432ecd841"
      },
      "execution_count": null,
      "outputs": [
        {
          "output_type": "stream",
          "name": "stdout",
          "text": [
            "tensor([[1., 1., 1.],\n",
            "        [1., 1., 1.]])\n"
          ]
        }
      ]
    },
    {
      "cell_type": "code",
      "source": [
        "# floor\n",
        "print(torch.floor(a))"
      ],
      "metadata": {
        "colab": {
          "base_uri": "https://localhost:8080/"
        },
        "id": "YyiMwBd2ScIj",
        "outputId": "a686ea33-bd47-40dc-bea4-ea0174e5674b"
      },
      "execution_count": null,
      "outputs": [
        {
          "output_type": "stream",
          "name": "stdout",
          "text": [
            "tensor([[0., 0., 0.],\n",
            "        [0., 0., 0.]])\n"
          ]
        }
      ]
    },
    {
      "cell_type": "code",
      "source": [
        "h = torch.tensor([[[1,2],[3,4]],[[5,6],[7,8]],[[9,10],[11,12]]])\n",
        "print(h)"
      ],
      "metadata": {
        "colab": {
          "base_uri": "https://localhost:8080/"
        },
        "id": "GS2Em2CDS1AM",
        "outputId": "425a2e72-b8af-4004-f182-3a92fc0429e8"
      },
      "execution_count": null,
      "outputs": [
        {
          "output_type": "stream",
          "name": "stdout",
          "text": [
            "tensor([[[ 1,  2],\n",
            "         [ 3,  4]],\n",
            "\n",
            "        [[ 5,  6],\n",
            "         [ 7,  8]],\n",
            "\n",
            "        [[ 9, 10],\n",
            "         [11, 12]]])\n"
          ]
        }
      ]
    },
    {
      "cell_type": "code",
      "source": [
        "# clamp -> convert less than min value in value, and greater than max value max value\n",
        "print(torch.clamp(h,5,10))"
      ],
      "metadata": {
        "colab": {
          "base_uri": "https://localhost:8080/"
        },
        "id": "bHqQ09bKSlDA",
        "outputId": "a7c6ea16-113c-491e-d964-75a44a82b7bf"
      },
      "execution_count": null,
      "outputs": [
        {
          "output_type": "stream",
          "name": "stdout",
          "text": [
            "tensor([[[ 5,  5],\n",
            "         [ 5,  5]],\n",
            "\n",
            "        [[ 5,  6],\n",
            "         [ 7,  8]],\n",
            "\n",
            "        [[ 9, 10],\n",
            "         [10, 10]]])\n"
          ]
        }
      ]
    },
    {
      "cell_type": "markdown",
      "source": [
        "### 3. Reduction Operations\n",
        "**reducing tenson in single number**"
      ],
      "metadata": {
        "id": "5W_h5pwVTSKQ"
      }
    },
    {
      "cell_type": "code",
      "source": [
        "j = torch.tensor([[1,2,3],[4,5,6]])\n",
        "print(j)"
      ],
      "metadata": {
        "colab": {
          "base_uri": "https://localhost:8080/"
        },
        "id": "IWivW8r5Uk8P",
        "outputId": "9cc1c159-2ee7-4983-f5bb-153beaf1adff"
      },
      "execution_count": null,
      "outputs": [
        {
          "output_type": "stream",
          "name": "stdout",
          "text": [
            "tensor([[1, 2, 3],\n",
            "        [4, 5, 6]])\n"
          ]
        }
      ]
    },
    {
      "cell_type": "code",
      "source": [
        "h"
      ],
      "metadata": {
        "colab": {
          "base_uri": "https://localhost:8080/"
        },
        "id": "k-Ixv984U7QN",
        "outputId": "9c739ab3-547c-4f63-860c-e38d146675e3"
      },
      "execution_count": null,
      "outputs": [
        {
          "output_type": "execute_result",
          "data": {
            "text/plain": [
              "tensor([[[ 1,  2],\n",
              "         [ 3,  4]],\n",
              "\n",
              "        [[ 5,  6],\n",
              "         [ 7,  8]],\n",
              "\n",
              "        [[ 9, 10],\n",
              "         [11, 12]]])"
            ]
          },
          "metadata": {},
          "execution_count": 50
        }
      ]
    },
    {
      "cell_type": "code",
      "source": [
        "# sum\n",
        "print(torch.sum(h))\n",
        "\n",
        "# sum along layers\n",
        "print(torch.sum(h, dim=0))\n",
        "\n",
        "# sum along columns\n",
        "print(torch.sum(h, dim=1))\n",
        "\n",
        "# sum along rows\n",
        "print(torch.sum(h, dim=2))"
      ],
      "metadata": {
        "colab": {
          "base_uri": "https://localhost:8080/"
        },
        "id": "1lLABHkGTE1h",
        "outputId": "a5fb1b29-8c41-4f6f-f443-d6ce71de4fc5"
      },
      "execution_count": null,
      "outputs": [
        {
          "output_type": "stream",
          "name": "stdout",
          "text": [
            "tensor(78)\n",
            "tensor([[15, 18],\n",
            "        [21, 24]])\n",
            "tensor([[ 4,  6],\n",
            "        [12, 14],\n",
            "        [20, 22]])\n",
            "tensor([[ 3,  7],\n",
            "        [11, 15],\n",
            "        [19, 23]])\n"
          ]
        }
      ]
    },
    {
      "cell_type": "code",
      "source": [
        "# sum along columns\n",
        "print(torch.sum(j, dim=0))\n",
        "\n",
        "# sum along rows\n",
        "print(torch.sum(j, dim=1))"
      ],
      "metadata": {
        "colab": {
          "base_uri": "https://localhost:8080/"
        },
        "id": "LSwMcPCjTzLL",
        "outputId": "331869c5-5c8d-4480-d29f-94508d81af32"
      },
      "execution_count": null,
      "outputs": [
        {
          "output_type": "stream",
          "name": "stdout",
          "text": [
            "tensor([5, 7, 9])\n",
            "tensor([ 6, 15])\n"
          ]
        }
      ]
    },
    {
      "cell_type": "code",
      "source": [
        "# mean\n",
        "print(torch.mean(h))\n",
        "\n",
        "# mean along layers\n",
        "print(torch.mean(h, dim=0))\n",
        "\n",
        "# mean along columns\n",
        "print(torch.mean(h, dim=1))\n",
        "\n",
        "# mean along rows\n",
        "print(torch.mean(h, dim=2))\n",
        "\n",
        "# to calculate mean you need flowt dtype and our tensor dtype is int"
      ],
      "metadata": {
        "colab": {
          "base_uri": "https://localhost:8080/",
          "height": 228
        },
        "id": "929GYfsfUPuZ",
        "outputId": "eea9f5ec-4059-4caa-9657-70218bd0070a"
      },
      "execution_count": null,
      "outputs": [
        {
          "output_type": "error",
          "ename": "RuntimeError",
          "evalue": "mean(): could not infer output dtype. Input dtype must be either a floating point or complex dtype. Got: Long",
          "traceback": [
            "\u001b[0;31m---------------------------------------------------------------------------\u001b[0m",
            "\u001b[0;31mRuntimeError\u001b[0m                              Traceback (most recent call last)",
            "\u001b[0;32m<ipython-input-54-d1ba6940dd46>\u001b[0m in \u001b[0;36m<cell line: 2>\u001b[0;34m()\u001b[0m\n\u001b[1;32m      1\u001b[0m \u001b[0;31m# mean\u001b[0m\u001b[0;34m\u001b[0m\u001b[0;34m\u001b[0m\u001b[0m\n\u001b[0;32m----> 2\u001b[0;31m \u001b[0mprint\u001b[0m\u001b[0;34m(\u001b[0m\u001b[0mtorch\u001b[0m\u001b[0;34m.\u001b[0m\u001b[0mmean\u001b[0m\u001b[0;34m(\u001b[0m\u001b[0mh\u001b[0m\u001b[0;34m)\u001b[0m\u001b[0;34m)\u001b[0m\u001b[0;34m\u001b[0m\u001b[0;34m\u001b[0m\u001b[0m\n\u001b[0m\u001b[1;32m      3\u001b[0m \u001b[0;34m\u001b[0m\u001b[0m\n\u001b[1;32m      4\u001b[0m \u001b[0;31m# mean along layers\u001b[0m\u001b[0;34m\u001b[0m\u001b[0;34m\u001b[0m\u001b[0m\n\u001b[1;32m      5\u001b[0m \u001b[0mprint\u001b[0m\u001b[0;34m(\u001b[0m\u001b[0mtorch\u001b[0m\u001b[0;34m.\u001b[0m\u001b[0mmean\u001b[0m\u001b[0;34m(\u001b[0m\u001b[0mh\u001b[0m\u001b[0;34m,\u001b[0m \u001b[0mdim\u001b[0m\u001b[0;34m=\u001b[0m\u001b[0;36m0\u001b[0m\u001b[0;34m)\u001b[0m\u001b[0;34m)\u001b[0m\u001b[0;34m\u001b[0m\u001b[0;34m\u001b[0m\u001b[0m\n",
            "\u001b[0;31mRuntimeError\u001b[0m: mean(): could not infer output dtype. Input dtype must be either a floating point or complex dtype. Got: Long"
          ]
        }
      ]
    },
    {
      "cell_type": "code",
      "source": [
        "k = torch.rand(2,3,dtype=torch.float32)\n",
        "print(k)"
      ],
      "metadata": {
        "colab": {
          "base_uri": "https://localhost:8080/"
        },
        "id": "VCOGmcZUeDJY",
        "outputId": "5b66a555-ce66-4771-f89a-4115fd704acc"
      },
      "execution_count": null,
      "outputs": [
        {
          "output_type": "stream",
          "name": "stdout",
          "text": [
            "tensor([[0.9516, 0.0753, 0.8860],\n",
            "        [0.5832, 0.3376, 0.8090]])\n"
          ]
        }
      ]
    },
    {
      "cell_type": "code",
      "source": [
        "# mean\n",
        "print(torch.mean(k))\n",
        "\n",
        "# mean along columns\n",
        "print(torch.mean(k, dim=0))\n",
        "\n",
        "# mean along rows\n",
        "print(torch.mean(k, dim=1))"
      ],
      "metadata": {
        "colab": {
          "base_uri": "https://localhost:8080/"
        },
        "id": "JXbPQXAyd-XI",
        "outputId": "14b8a11c-b115-464a-d993-a1d66a8ba327"
      },
      "execution_count": null,
      "outputs": [
        {
          "output_type": "stream",
          "name": "stdout",
          "text": [
            "tensor(0.6071)\n",
            "tensor([0.7674, 0.2065, 0.8475])\n",
            "tensor([0.6376, 0.5766])\n"
          ]
        }
      ]
    },
    {
      "cell_type": "code",
      "source": [
        "# median\n",
        "print(torch.median(k))\n",
        "\n",
        "# max\n",
        "print(torch.max(k))\n",
        "\n",
        "# min\n",
        "print(torch.min(k))\n",
        "\n",
        "# argmax -> Finds the index of the largest value in a tensor.\n",
        "print(torch.argmax(k))\n",
        "\n",
        "# argmin -> Finds the index of the smallest value in a tensor.\n",
        "print(torch.argmin(k))"
      ],
      "metadata": {
        "colab": {
          "base_uri": "https://localhost:8080/"
        },
        "id": "W4p2Bbm7ekwo",
        "outputId": "992e4578-f52d-4d39-f911-c91cba199563"
      },
      "execution_count": null,
      "outputs": [
        {
          "output_type": "stream",
          "name": "stdout",
          "text": [
            "tensor(0.5832)\n",
            "tensor(0.9516)\n",
            "tensor(0.0753)\n",
            "tensor(0)\n",
            "tensor(1)\n"
          ]
        }
      ]
    },
    {
      "cell_type": "code",
      "source": [
        "k"
      ],
      "metadata": {
        "colab": {
          "base_uri": "https://localhost:8080/"
        },
        "id": "lLA_ED-lewzz",
        "outputId": "e418500d-202d-4a13-adb1-f21084da7199"
      },
      "execution_count": null,
      "outputs": [
        {
          "output_type": "execute_result",
          "data": {
            "text/plain": [
              "tensor([[0.9516, 0.0753, 0.8860],\n",
              "        [0.5832, 0.3376, 0.8090]])"
            ]
          },
          "metadata": {},
          "execution_count": 59
        }
      ]
    },
    {
      "cell_type": "code",
      "source": [
        "# product\n",
        "print(torch.prod(k))\n",
        "\n",
        "# standard deviation\n",
        "print(torch.std(k))\n",
        "\n",
        "# variance\n",
        "print(torch.var(k))"
      ],
      "metadata": {
        "colab": {
          "base_uri": "https://localhost:8080/"
        },
        "id": "8aDNp7qNe-pz",
        "outputId": "dce36ceb-85e5-43e3-ac67-3ce9b9f549b9"
      },
      "execution_count": null,
      "outputs": [
        {
          "output_type": "stream",
          "name": "stdout",
          "text": [
            "tensor(0.0101)\n",
            "tensor(0.3444)\n",
            "tensor(0.1186)\n"
          ]
        }
      ]
    },
    {
      "cell_type": "markdown",
      "source": [
        "### 4. Metrix Operations"
      ],
      "metadata": {
        "id": "TraHibDIgUHr"
      }
    },
    {
      "cell_type": "code",
      "source": [
        "l = torch.randint(size=(2,3), low=0, high=10)\n",
        "m = torch.randint(size=(3,2), low=0, high=10)\n",
        "\n",
        "print(l)\n",
        "print(m)"
      ],
      "metadata": {
        "colab": {
          "base_uri": "https://localhost:8080/"
        },
        "id": "xvfymuLsf0P8",
        "outputId": "13602a6c-cf5d-4fba-ff51-8b8aefc605bd"
      },
      "execution_count": null,
      "outputs": [
        {
          "output_type": "stream",
          "name": "stdout",
          "text": [
            "tensor([[9, 6, 2],\n",
            "        [0, 6, 2]])\n",
            "tensor([[7, 9],\n",
            "        [7, 3],\n",
            "        [3, 4]])\n"
          ]
        }
      ]
    },
    {
      "cell_type": "code",
      "source": [
        "# matrix multiplication\n",
        "print(torch.matmul(l,m))"
      ],
      "metadata": {
        "colab": {
          "base_uri": "https://localhost:8080/"
        },
        "id": "4fl_EBcCgk7j",
        "outputId": "08ef5caf-32e7-4c6a-a46f-c74c186f6e2e"
      },
      "execution_count": null,
      "outputs": [
        {
          "output_type": "stream",
          "name": "stdout",
          "text": [
            "tensor([[111, 107],\n",
            "        [ 48,  26]])\n"
          ]
        }
      ]
    },
    {
      "cell_type": "markdown",
      "source": [],
      "metadata": {
        "id": "AM2TzyiAimd3"
      }
    },
    {
      "cell_type": "code",
      "source": [
        "torch.randint(size=(3,), low=0, high=10)"
      ],
      "metadata": {
        "colab": {
          "base_uri": "https://localhost:8080/"
        },
        "id": "-TRIOsCriKxU",
        "outputId": "bf043e77-09e8-48c1-e5f8-3ac000eb284a"
      },
      "execution_count": null,
      "outputs": [
        {
          "output_type": "execute_result",
          "data": {
            "text/plain": [
              "tensor([0, 0, 1])"
            ]
          },
          "metadata": {},
          "execution_count": 75
        }
      ]
    },
    {
      "cell_type": "code",
      "source": [
        "# dotproduct -> It only works on 1D tensors.\n",
        "n = torch.randint(size=(3,), low=0, high=10) # creating 1d tensors\n",
        "o = torch.randint(size=(3,), low=0, high=10)\n",
        "\n",
        "print(n)\n",
        "print(o)\n",
        "\n",
        "print(torch.dot(n,o))"
      ],
      "metadata": {
        "colab": {
          "base_uri": "https://localhost:8080/"
        },
        "id": "MKRh6iFzgrK0",
        "outputId": "1948b2f9-1149-43ad-c902-6ce28fa4eaff"
      },
      "execution_count": null,
      "outputs": [
        {
          "output_type": "stream",
          "name": "stdout",
          "text": [
            "tensor([2, 0, 9])\n",
            "tensor([8, 5, 3])\n",
            "tensor(43)\n"
          ]
        }
      ]
    },
    {
      "cell_type": "code",
      "source": [
        "# transpose\n",
        "print(l)\n",
        "print(l.T)"
      ],
      "metadata": {
        "colab": {
          "base_uri": "https://localhost:8080/"
        },
        "id": "9ly33XxqhRxr",
        "outputId": "1aa71cf8-d186-4f15-987c-566d282c4288"
      },
      "execution_count": null,
      "outputs": [
        {
          "output_type": "stream",
          "name": "stdout",
          "text": [
            "tensor([[9, 6, 2],\n",
            "        [0, 6, 2]])\n",
            "tensor([[9, 0],\n",
            "        [6, 6],\n",
            "        [2, 2]])\n"
          ]
        }
      ]
    },
    {
      "cell_type": "code",
      "source": [
        "torch.transpose(l,0,1)"
      ],
      "metadata": {
        "colab": {
          "base_uri": "https://localhost:8080/"
        },
        "id": "VeKpRK7SqwXQ",
        "outputId": "a149713f-20bb-4aea-b84a-9198e7596292"
      },
      "execution_count": null,
      "outputs": [
        {
          "output_type": "execute_result",
          "data": {
            "text/plain": [
              "tensor([[9, 0],\n",
              "        [6, 6],\n",
              "        [2, 2]])"
            ]
          },
          "metadata": {},
          "execution_count": 85
        }
      ]
    },
    {
      "cell_type": "code",
      "source": [
        "print(h)\n",
        "print(\"\\n------\\n\")\n",
        "print(torch.transpose(h,1,2))\n",
        "print(\"\\n------\\n\")\n",
        "print(torch.transpose(h,0,1))\n",
        "print(\"\\n------\\n\")\n",
        "print(torch.transpose(h,0,2))"
      ],
      "metadata": {
        "colab": {
          "base_uri": "https://localhost:8080/"
        },
        "id": "_H7JA8hFo7r7",
        "outputId": "c0fea92e-e2af-4ed8-e494-cbbbc78ae919"
      },
      "execution_count": null,
      "outputs": [
        {
          "output_type": "stream",
          "name": "stdout",
          "text": [
            "tensor([[[ 1,  2],\n",
            "         [ 3,  4]],\n",
            "\n",
            "        [[ 5,  6],\n",
            "         [ 7,  8]],\n",
            "\n",
            "        [[ 9, 10],\n",
            "         [11, 12]]])\n",
            "\n",
            "------\n",
            "\n",
            "tensor([[[ 1,  3],\n",
            "         [ 2,  4]],\n",
            "\n",
            "        [[ 5,  7],\n",
            "         [ 6,  8]],\n",
            "\n",
            "        [[ 9, 11],\n",
            "         [10, 12]]])\n",
            "\n",
            "------\n",
            "\n",
            "tensor([[[ 1,  2],\n",
            "         [ 5,  6],\n",
            "         [ 9, 10]],\n",
            "\n",
            "        [[ 3,  4],\n",
            "         [ 7,  8],\n",
            "         [11, 12]]])\n",
            "\n",
            "------\n",
            "\n",
            "tensor([[[ 1,  5,  9],\n",
            "         [ 3,  7, 11]],\n",
            "\n",
            "        [[ 2,  6, 10],\n",
            "         [ 4,  8, 12]]])\n"
          ]
        }
      ]
    },
    {
      "cell_type": "code",
      "source": [
        "# determinant -> needs float values to calculate det\n",
        "p = torch.randint(size=(2,2), low=0, high=10,dtype=torch.float32)\n",
        "print(p)\n",
        "\n",
        "print(torch.det(p))"
      ],
      "metadata": {
        "colab": {
          "base_uri": "https://localhost:8080/"
        },
        "id": "jvdp__jkpWuI",
        "outputId": "485ce610-3b51-4ccd-fb5e-3141b5ea605f"
      },
      "execution_count": null,
      "outputs": [
        {
          "output_type": "stream",
          "name": "stdout",
          "text": [
            "tensor([[7., 5.],\n",
            "        [8., 5.]])\n",
            "tensor(-5.0000)\n"
          ]
        }
      ]
    },
    {
      "cell_type": "code",
      "source": [
        "# innverse\n",
        "print(torch.inverse(p))"
      ],
      "metadata": {
        "colab": {
          "base_uri": "https://localhost:8080/"
        },
        "id": "KILC5210trHK",
        "outputId": "5c8f5084-c0e8-43d1-c669-7b7d31d6f3df"
      },
      "execution_count": null,
      "outputs": [
        {
          "output_type": "stream",
          "name": "stdout",
          "text": [
            "tensor([[-1.0000,  1.0000],\n",
            "        [ 1.6000, -1.4000]])\n"
          ]
        }
      ]
    },
    {
      "cell_type": "code",
      "source": [
        "q = torch.randint(size=(3,3), low=0, high=10,dtype=torch.float32)\n",
        "print(q,\"\\n=========\\n\")\n",
        "\n",
        "print(torch.det(q),\"\\n=======\\n\")\n",
        "print(torch.inverse(q))"
      ],
      "metadata": {
        "colab": {
          "base_uri": "https://localhost:8080/"
        },
        "id": "5jSnXo6ZueSa",
        "outputId": "78083e9e-2377-4ca1-bc59-a6241f8cc85f"
      },
      "execution_count": null,
      "outputs": [
        {
          "output_type": "stream",
          "name": "stdout",
          "text": [
            "tensor([[4., 1., 1.],\n",
            "        [0., 9., 0.],\n",
            "        [9., 1., 8.]]) \n",
            "=========\n",
            "\n",
            "tensor(207.) \n",
            "=======\n",
            "\n",
            "tensor([[ 0.3478, -0.0338, -0.0435],\n",
            "        [ 0.0000,  0.1111,  0.0000],\n",
            "        [-0.3913,  0.0242,  0.1739]])\n"
          ]
        }
      ]
    },
    {
      "cell_type": "markdown",
      "source": [
        "### 5. Comparison Operations"
      ],
      "metadata": {
        "id": "qLw2yBQUzo7X"
      }
    },
    {
      "cell_type": "code",
      "source": [
        "r = torch.randint(size=(2,3), low=10, high=20,dtype=torch.float32)\n",
        "s = torch.randint(size=(2,3), low=30, high=50)\n",
        "\n",
        "print(r)\n",
        "print(s)"
      ],
      "metadata": {
        "colab": {
          "base_uri": "https://localhost:8080/"
        },
        "id": "JAeOtkV1zhFP",
        "outputId": "46bd72b5-ecd2-4159-ad63-18a9c8bfa176"
      },
      "execution_count": null,
      "outputs": [
        {
          "output_type": "stream",
          "name": "stdout",
          "text": [
            "tensor([[16., 10., 16.],\n",
            "        [18., 16., 18.]])\n",
            "tensor([[40, 46, 49],\n",
            "        [30, 45, 49]])\n"
          ]
        }
      ]
    },
    {
      "cell_type": "code",
      "source": [
        "# greater than\n",
        "print(r > s)\n",
        "\n",
        "# less than\n",
        "print(r < s)\n",
        "\n",
        "# equal to\n",
        "print(r == s)\n",
        "\n",
        "# greater than or equal to\n",
        "print(r >= s)\n",
        "\n",
        "# less than or equal to\n",
        "print(r <= s)"
      ],
      "metadata": {
        "colab": {
          "base_uri": "https://localhost:8080/"
        },
        "id": "ZJUbvgJD0BsX",
        "outputId": "89664f48-3b27-4547-9954-eb1aa588301f"
      },
      "execution_count": null,
      "outputs": [
        {
          "output_type": "stream",
          "name": "stdout",
          "text": [
            "tensor([[False, False, False],\n",
            "        [False, False, False]])\n",
            "tensor([[True, True, True],\n",
            "        [True, True, True]])\n",
            "tensor([[False, False, False],\n",
            "        [False, False, False]])\n",
            "tensor([[False, False, False],\n",
            "        [False, False, False]])\n",
            "tensor([[True, True, True],\n",
            "        [True, True, True]])\n"
          ]
        }
      ]
    },
    {
      "cell_type": "markdown",
      "source": [
        "### 6. Special functions"
      ],
      "metadata": {
        "id": "AK5DWTF80Stg"
      }
    },
    {
      "cell_type": "code",
      "source": [
        "# log\n",
        "print(torch.log(r))\n",
        "\n",
        "# exp\n",
        "print(torch.exp(r))\n",
        "\n",
        "# sin\n",
        "print(torch.sin(r))\n",
        "\n",
        "# cos\n",
        "print(torch.cos(r))\n",
        "\n",
        "# tan\n",
        "print(torch.tan(r))"
      ],
      "metadata": {
        "colab": {
          "base_uri": "https://localhost:8080/"
        },
        "id": "jyW1rh910JDS",
        "outputId": "7d98aecc-f42b-4f1e-be9b-1ce93cc6146a"
      },
      "execution_count": null,
      "outputs": [
        {
          "output_type": "stream",
          "name": "stdout",
          "text": [
            "tensor([[2.7726, 2.3026, 2.7726],\n",
            "        [2.8904, 2.7726, 2.8904]])\n",
            "tensor([[8.8861e+06, 2.2026e+04, 8.8861e+06],\n",
            "        [6.5660e+07, 8.8861e+06, 6.5660e+07]])\n",
            "tensor([[-0.2879, -0.5440, -0.2879],\n",
            "        [-0.7510, -0.2879, -0.7510]])\n",
            "tensor([[-0.9577, -0.8391, -0.9577],\n",
            "        [ 0.6603, -0.9577,  0.6603]])\n",
            "tensor([[ 0.3006,  0.6484,  0.3006],\n",
            "        [-1.1373,  0.3006, -1.1373]])\n"
          ]
        }
      ]
    },
    {
      "cell_type": "code",
      "source": [
        "# square root\n",
        "print(torch.sqrt(r))\n",
        "\n",
        "# square\n",
        "print(torch.square(r))\n",
        "\n",
        "# sigmoid\n",
        "print(torch.sigmoid(r))\n",
        "\n",
        "# softmax\n",
        "print(torch.softmax(r,dim=1))\n",
        "\n",
        "# tanh\n",
        "print(torch.tanh(r))"
      ],
      "metadata": {
        "colab": {
          "base_uri": "https://localhost:8080/"
        },
        "id": "ge_rNh3H0gi5",
        "outputId": "62c929a6-953a-45f6-aacb-1cca08061137"
      },
      "execution_count": null,
      "outputs": [
        {
          "output_type": "stream",
          "name": "stdout",
          "text": [
            "tensor([[4.0000, 3.1623, 4.0000],\n",
            "        [4.2426, 4.0000, 4.2426]])\n",
            "tensor([[256., 100., 256.],\n",
            "        [324., 256., 324.]])\n",
            "tensor([[1.0000, 1.0000, 1.0000],\n",
            "        [1.0000, 1.0000, 1.0000]])\n",
            "tensor([[0.4994, 0.0012, 0.4994],\n",
            "        [0.4683, 0.0634, 0.4683]])\n",
            "tensor([[1., 1., 1.],\n",
            "        [1., 1., 1.]])\n"
          ]
        }
      ]
    },
    {
      "cell_type": "code",
      "source": [
        "r"
      ],
      "metadata": {
        "colab": {
          "base_uri": "https://localhost:8080/"
        },
        "id": "tgZCXS_t0vHX",
        "outputId": "795327a8-1eae-43e2-af1a-0531bf8a8cea"
      },
      "execution_count": null,
      "outputs": [
        {
          "output_type": "execute_result",
          "data": {
            "text/plain": [
              "tensor([[16., 10., 16.],\n",
              "        [18., 16., 18.]])"
            ]
          },
          "metadata": {},
          "execution_count": 103
        }
      ]
    },
    {
      "cell_type": "markdown",
      "source": [
        "### 6. Inplace Operations"
      ],
      "metadata": {
        "id": "OF75xzOXY9y3"
      }
    },
    {
      "cell_type": "markdown",
      "source": [
        "to use inplace operation you just need to add \"_\" infront of any function."
      ],
      "metadata": {
        "id": "OYorCrOheq1-"
      }
    },
    {
      "cell_type": "code",
      "source": [
        "a = torch.tensor([[1,2,3],[5,7,8]])"
      ],
      "metadata": {
        "id": "fQzCUSaJ1AE_"
      },
      "execution_count": null,
      "outputs": []
    },
    {
      "cell_type": "code",
      "source": [
        "id(a)"
      ],
      "metadata": {
        "colab": {
          "base_uri": "https://localhost:8080/"
        },
        "id": "gV5ECxMng29A",
        "outputId": "09bd45c5-0ca9-4adf-f2c3-ed8a75b6f750"
      },
      "execution_count": null,
      "outputs": [
        {
          "output_type": "execute_result",
          "data": {
            "text/plain": [
              "139048921691488"
            ]
          },
          "metadata": {},
          "execution_count": 56
        }
      ]
    },
    {
      "cell_type": "code",
      "source": [
        "id(a.add_(b))"
      ],
      "metadata": {
        "colab": {
          "base_uri": "https://localhost:8080/"
        },
        "id": "AUZpC17JbK3D",
        "outputId": "32ba0633-9bd6-48c0-9b40-16a75d740580"
      },
      "execution_count": null,
      "outputs": [
        {
          "output_type": "execute_result",
          "data": {
            "text/plain": [
              "139048921691488"
            ]
          },
          "metadata": {},
          "execution_count": 57
        }
      ]
    },
    {
      "cell_type": "code",
      "source": [
        "id(torch.add(a,b))"
      ],
      "metadata": {
        "colab": {
          "base_uri": "https://localhost:8080/"
        },
        "id": "4J7uoD60Z_4d",
        "outputId": "e60e5a12-e3f8-45d1-eb43-6567caa0685b"
      },
      "execution_count": null,
      "outputs": [
        {
          "output_type": "execute_result",
          "data": {
            "text/plain": [
              "139048934782784"
            ]
          },
          "metadata": {},
          "execution_count": 58
        }
      ]
    },
    {
      "cell_type": "code",
      "source": [
        "a.to(torch.float32).sigmoid_()"
      ],
      "metadata": {
        "colab": {
          "base_uri": "https://localhost:8080/"
        },
        "id": "kjjvDTMub6pR",
        "outputId": "52ed0e66-a74c-456f-a496-4e77d2b716ae"
      },
      "execution_count": null,
      "outputs": [
        {
          "output_type": "execute_result",
          "data": {
            "text/plain": [
              "tensor([[0.8808, 0.9820, 0.9975],\n",
              "        [1.0000, 1.0000, 1.0000]])"
            ]
          },
          "metadata": {},
          "execution_count": 52
        }
      ]
    },
    {
      "cell_type": "code",
      "source": [
        "a.mul_(b) # we are storing multiplication results in location of a"
      ],
      "metadata": {
        "colab": {
          "base_uri": "https://localhost:8080/"
        },
        "id": "OBXsYpu2eDcP",
        "outputId": "9f2f0a90-7cab-4b94-eae1-92647ced150f"
      },
      "execution_count": null,
      "outputs": [
        {
          "output_type": "execute_result",
          "data": {
            "text/plain": [
              "tensor([[   4,   16,   36],\n",
              "        [3600,  196,  256]])"
            ]
          },
          "metadata": {},
          "execution_count": 53
        }
      ]
    },
    {
      "cell_type": "markdown",
      "source": [
        "## Copying a Tensor"
      ],
      "metadata": {
        "id": "b06ygMjjf4sD"
      }
    },
    {
      "cell_type": "code",
      "source": [
        "a"
      ],
      "metadata": {
        "colab": {
          "base_uri": "https://localhost:8080/"
        },
        "id": "gkvQNFDkZgZK",
        "outputId": "e6af6cd9-3646-471b-9994-df4a0229f6ff"
      },
      "execution_count": null,
      "outputs": [
        {
          "output_type": "execute_result",
          "data": {
            "text/plain": [
              "tensor([[   5,   18,   39],\n",
              "        [3605,  203,  264]])"
            ]
          },
          "metadata": {},
          "execution_count": 61
        }
      ]
    },
    {
      "cell_type": "code",
      "source": [
        "b = a # we are assigning new var b to a, not creating copy"
      ],
      "metadata": {
        "id": "kNx-4YZKZis8"
      },
      "execution_count": null,
      "outputs": []
    },
    {
      "cell_type": "code",
      "source": [
        "b"
      ],
      "metadata": {
        "colab": {
          "base_uri": "https://localhost:8080/"
        },
        "id": "OQIClv07ikGq",
        "outputId": "86fd154f-ca2e-4f33-fd40-99d6add96716"
      },
      "execution_count": null,
      "outputs": [
        {
          "output_type": "execute_result",
          "data": {
            "text/plain": [
              "tensor([[   5,   18,   39],\n",
              "        [3605,  203,  264]])"
            ]
          },
          "metadata": {},
          "execution_count": 63
        }
      ]
    },
    {
      "cell_type": "code",
      "source": [
        "a[1][0] = 30"
      ],
      "metadata": {
        "id": "qaIW2ojjZhFc"
      },
      "execution_count": null,
      "outputs": []
    },
    {
      "cell_type": "code",
      "source": [
        "a"
      ],
      "metadata": {
        "colab": {
          "base_uri": "https://localhost:8080/"
        },
        "id": "VHRWxkrIZr5g",
        "outputId": "b6111d9d-cd91-4c82-80ac-50655a10faf5"
      },
      "execution_count": null,
      "outputs": [
        {
          "output_type": "execute_result",
          "data": {
            "text/plain": [
              "tensor([[  5,  18,  39],\n",
              "        [ 30, 203, 264]])"
            ]
          },
          "metadata": {},
          "execution_count": 65
        }
      ]
    },
    {
      "cell_type": "code",
      "source": [
        "b"
      ],
      "metadata": {
        "colab": {
          "base_uri": "https://localhost:8080/"
        },
        "id": "5T0QJPy1ZlGM",
        "outputId": "6cfa5c14-99f6-45c0-f177-345972762740"
      },
      "execution_count": null,
      "outputs": [
        {
          "output_type": "execute_result",
          "data": {
            "text/plain": [
              "tensor([[  5,  18,  39],\n",
              "        [ 30, 203, 264]])"
            ]
          },
          "metadata": {},
          "execution_count": 66
        }
      ]
    },
    {
      "cell_type": "code",
      "source": [
        "id(a) == id(b)"
      ],
      "metadata": {
        "colab": {
          "base_uri": "https://localhost:8080/"
        },
        "id": "2N2V-TPWZlpy",
        "outputId": "e5fce570-b752-47e5-f22b-841c18da7c24"
      },
      "execution_count": null,
      "outputs": [
        {
          "output_type": "execute_result",
          "data": {
            "text/plain": [
              "True"
            ]
          },
          "metadata": {},
          "execution_count": 67
        }
      ]
    },
    {
      "cell_type": "code",
      "source": [
        "c = a.clone() # we are creating copy of a"
      ],
      "metadata": {
        "id": "sTrcf-p2icVu"
      },
      "execution_count": null,
      "outputs": []
    },
    {
      "cell_type": "code",
      "source": [
        "c"
      ],
      "metadata": {
        "colab": {
          "base_uri": "https://localhost:8080/"
        },
        "id": "EF_pWgkXitiS",
        "outputId": "c500271a-562d-4651-f6ab-1f9e94b65a4a"
      },
      "execution_count": null,
      "outputs": [
        {
          "output_type": "execute_result",
          "data": {
            "text/plain": [
              "tensor([[  5,  18,  39],\n",
              "        [ 30, 203, 264]])"
            ]
          },
          "metadata": {},
          "execution_count": 69
        }
      ]
    },
    {
      "cell_type": "code",
      "source": [
        "id(a) == id(c)"
      ],
      "metadata": {
        "colab": {
          "base_uri": "https://localhost:8080/"
        },
        "id": "SGTPvipGiuL6",
        "outputId": "ce466046-c335-460c-a6dc-5af59b9ac20e"
      },
      "execution_count": null,
      "outputs": [
        {
          "output_type": "execute_result",
          "data": {
            "text/plain": [
              "False"
            ]
          },
          "metadata": {},
          "execution_count": 70
        }
      ]
    },
    {
      "cell_type": "code",
      "source": [
        "a[0][0] = 0\n",
        "print(a)"
      ],
      "metadata": {
        "colab": {
          "base_uri": "https://localhost:8080/"
        },
        "id": "5DwdEWRNiy2g",
        "outputId": "869940d4-9a0a-47a0-8fe2-8ee969cd7071"
      },
      "execution_count": null,
      "outputs": [
        {
          "output_type": "stream",
          "name": "stdout",
          "text": [
            "tensor([[  0,  18,  39],\n",
            "        [ 30, 203, 264]])\n"
          ]
        }
      ]
    },
    {
      "cell_type": "code",
      "source": [
        "print(c)"
      ],
      "metadata": {
        "colab": {
          "base_uri": "https://localhost:8080/"
        },
        "id": "hajJzjMDjGIm",
        "outputId": "bea914ef-0fdf-4254-f4c0-6d88669dd9e0"
      },
      "execution_count": null,
      "outputs": [
        {
          "output_type": "stream",
          "name": "stdout",
          "text": [
            "tensor([[  5,  18,  39],\n",
            "        [ 30, 203, 264]])\n"
          ]
        }
      ]
    },
    {
      "cell_type": "markdown",
      "source": [
        "# Tensor Operations on GPU"
      ],
      "metadata": {
        "id": "6zpEKes3jRBB"
      }
    },
    {
      "cell_type": "code",
      "source": [
        "torch.cuda.is_available()"
      ],
      "metadata": {
        "colab": {
          "base_uri": "https://localhost:8080/"
        },
        "id": "twvkfPRFjHoX",
        "outputId": "75298d98-7092-45ab-efc6-3962ee4f6f5e"
      },
      "execution_count": 4,
      "outputs": [
        {
          "output_type": "execute_result",
          "data": {
            "text/plain": [
              "True"
            ]
          },
          "metadata": {},
          "execution_count": 4
        }
      ]
    },
    {
      "cell_type": "code",
      "source": [
        "device = torch.device(\"cuda\" if torch.cuda.is_available() else \"cpu\")"
      ],
      "metadata": {
        "id": "PlsblAlJjxe6"
      },
      "execution_count": 5,
      "outputs": []
    },
    {
      "cell_type": "code",
      "source": [
        "device"
      ],
      "metadata": {
        "colab": {
          "base_uri": "https://localhost:8080/"
        },
        "id": "gt4n_iJhk58-",
        "outputId": "b69f321e-fb1b-4783-e795-e6b0f803f4a8"
      },
      "execution_count": 6,
      "outputs": [
        {
          "output_type": "execute_result",
          "data": {
            "text/plain": [
              "device(type='cuda')"
            ]
          },
          "metadata": {},
          "execution_count": 6
        }
      ]
    },
    {
      "cell_type": "markdown",
      "source": [
        "### Creating tensors on GPU"
      ],
      "metadata": {
        "id": "RaTOy0MolE1n"
      }
    },
    {
      "cell_type": "code",
      "source": [
        "# creating new tensors\n",
        "tn1 = torch.rand((3,2),device=device)\n",
        "tn2 = torch.rand((3,2,4),device=device)"
      ],
      "metadata": {
        "id": "dUubS-A_k6qk"
      },
      "execution_count": 7,
      "outputs": []
    },
    {
      "cell_type": "code",
      "source": [
        "print(tn1)\n",
        "print(\"\\n\",tn2)"
      ],
      "metadata": {
        "colab": {
          "base_uri": "https://localhost:8080/"
        },
        "id": "YX5_LA2BX5fa",
        "outputId": "fcd5f6a5-865a-4a6e-cf94-58c03926d61c"
      },
      "execution_count": 9,
      "outputs": [
        {
          "output_type": "stream",
          "name": "stdout",
          "text": [
            "tensor([[0.3908, 0.0410],\n",
            "        [0.4119, 0.4350],\n",
            "        [0.5944, 0.2180]], device='cuda:0')\n",
            "\n",
            " tensor([[[0.5838, 0.1093, 0.6190, 0.6114],\n",
            "         [0.0443, 0.1172, 0.3722, 0.2988]],\n",
            "\n",
            "        [[0.3600, 0.2274, 0.5736, 0.9365],\n",
            "         [0.4428, 0.8404, 0.8372, 0.9751]],\n",
            "\n",
            "        [[0.7128, 0.4325, 0.3115, 0.5512],\n",
            "         [0.9914, 0.1480, 0.9058, 0.3808]]], device='cuda:0')\n"
          ]
        }
      ]
    },
    {
      "cell_type": "code",
      "source": [
        "# moving existing tensor to GPU\n",
        "tn3 = torch.rand((2,3)) # creating tensor on CPU\n",
        "print(tn3)\n",
        "print(\"pos id: \", id(tn3))\n",
        "print(\"-----------\")\n",
        "tn3 = tn3.to(device) # moving tensor on GPU\n",
        "print(tn3)\n",
        "print(\"pos id: \", id(tn3))"
      ],
      "metadata": {
        "colab": {
          "base_uri": "https://localhost:8080/"
        },
        "id": "VKz_gN-uX_xu",
        "outputId": "80e225f6-2f01-4e5c-c7ec-5f1a19c22b85"
      },
      "execution_count": 12,
      "outputs": [
        {
          "output_type": "stream",
          "name": "stdout",
          "text": [
            "tensor([[0.8995, 0.2343, 0.6266],\n",
            "        [0.1394, 0.4603, 0.2964]])\n",
            "pos id:  137647684783936\n",
            "-----------\n",
            "tensor([[0.8995, 0.2343, 0.6266],\n",
            "        [0.1394, 0.4603, 0.2964]], device='cuda:0')\n",
            "pos id:  137647684949456\n"
          ]
        }
      ]
    },
    {
      "cell_type": "markdown",
      "source": [
        "### Comparing the speed of operations on GPU VS operations on CPU"
      ],
      "metadata": {
        "id": "Wkmm5sIPZKE3"
      }
    },
    {
      "cell_type": "code",
      "source": [
        "import time\n",
        "\n",
        "size = 10000 # matrix size\n",
        "\n",
        "# creating matrices on CPU\n",
        "toc1 = torch.rand((size,size))\n",
        "toc2 = torch.rand((size,size))\n",
        "\n",
        "# operation time measurement\n",
        "start = time.time()\n",
        "toc_res = torch.matmul(toc1,toc2)\n",
        "cpu_time = time.time() - start\n",
        "\n",
        "# creating matrices on GPU\n",
        "tog1 = torch.rand((size,size),device=device)\n",
        "tog2 = torch.rand((size,size),device=device)\n",
        "\n",
        "# operation time measurement\n",
        "start = time.time()\n",
        "tog_res = torch.matmul(tog1,tog2)\n",
        "gpu_time = time.time() - start\n",
        "\n",
        "print(f\"cpu time: {cpu_time} sec \\ngpu time: {gpu_time} sec\")"
      ],
      "metadata": {
        "colab": {
          "base_uri": "https://localhost:8080/"
        },
        "id": "Qb3jcauKYsTN",
        "outputId": "db995c89-2ce1-43a7-ece1-eec0535c8ac9"
      },
      "execution_count": 20,
      "outputs": [
        {
          "output_type": "stream",
          "name": "stdout",
          "text": [
            "cpu time: 15.280505895614624 sec \n",
            "gpu time: 0.0007274150848388672 sec\n"
          ]
        }
      ]
    },
    {
      "cell_type": "markdown",
      "source": [
        "## Reshaping Tensors"
      ],
      "metadata": {
        "id": "78q7pb_8ct6u"
      }
    },
    {
      "cell_type": "code",
      "source": [
        "z1 = torch.rand(4,4)\n",
        "print(z1)"
      ],
      "metadata": {
        "colab": {
          "base_uri": "https://localhost:8080/"
        },
        "id": "p7qXgFN6aN-R",
        "outputId": "22f81ee4-f529-40b0-a81d-f689648dc036"
      },
      "execution_count": 6,
      "outputs": [
        {
          "output_type": "stream",
          "name": "stdout",
          "text": [
            "tensor([[0.5375, 0.5484, 0.7211, 0.4921],\n",
            "        [0.4178, 0.5622, 0.1207, 0.4533],\n",
            "        [0.2118, 0.6406, 0.4779, 0.6113],\n",
            "        [0.0976, 0.0966, 0.3504, 0.3673]])\n"
          ]
        }
      ]
    },
    {
      "cell_type": "code",
      "source": [
        "# reshape\n",
        "print(z1.reshape(2,8))\n",
        "print(z1.reshape(2,8).shape,\"\\n------\")\n",
        "\n",
        "# flatten\n",
        "print(z1.reshape(16))\n",
        "print(z1.reshape(16).shape)\n",
        "print(\"============================================================\")\n",
        "print(z1.reshape(-1))\n",
        "print(z1.reshape(-1).shape)\n",
        "print(\"============================================================\")\n",
        "print(z1.flatten())\n",
        "print(z1.flatten().shape)"
      ],
      "metadata": {
        "colab": {
          "base_uri": "https://localhost:8080/"
        },
        "id": "wxK0oXgdb9mi",
        "outputId": "fb41fc30-b72b-4ca9-941f-83b4a9be8671"
      },
      "execution_count": 11,
      "outputs": [
        {
          "output_type": "stream",
          "name": "stdout",
          "text": [
            "tensor([[0.5375, 0.5484, 0.7211, 0.4921, 0.4178, 0.5622, 0.1207, 0.4533],\n",
            "        [0.2118, 0.6406, 0.4779, 0.6113, 0.0976, 0.0966, 0.3504, 0.3673]])\n",
            "torch.Size([2, 8]) \n",
            "------\n",
            "tensor([0.5375, 0.5484, 0.7211, 0.4921, 0.4178, 0.5622, 0.1207, 0.4533, 0.2118,\n",
            "        0.6406, 0.4779, 0.6113, 0.0976, 0.0966, 0.3504, 0.3673])\n",
            "torch.Size([16])\n",
            "============================================================\n",
            "tensor([0.5375, 0.5484, 0.7211, 0.4921, 0.4178, 0.5622, 0.1207, 0.4533, 0.2118,\n",
            "        0.6406, 0.4779, 0.6113, 0.0976, 0.0966, 0.3504, 0.3673])\n",
            "torch.Size([16])\n",
            "============================================================\n",
            "tensor([0.5375, 0.5484, 0.7211, 0.4921, 0.4178, 0.5622, 0.1207, 0.4533, 0.2118,\n",
            "        0.6406, 0.4779, 0.6113, 0.0976, 0.0966, 0.3504, 0.3673])\n",
            "torch.Size([16])\n"
          ]
        }
      ]
    },
    {
      "cell_type": "code",
      "source": [
        "z2 = torch.rand(2,3,4)\n",
        "print(z2)\n",
        "print(z2.shape)"
      ],
      "metadata": {
        "colab": {
          "base_uri": "https://localhost:8080/"
        },
        "id": "DJ_3mH9ueabE",
        "outputId": "fcf77db2-324a-4e1b-b295-da3bbae20fb2"
      },
      "execution_count": 17,
      "outputs": [
        {
          "output_type": "stream",
          "name": "stdout",
          "text": [
            "tensor([[[0.4503, 0.9195, 0.8978, 0.2396],\n",
            "         [0.7289, 0.9944, 0.9214, 0.0947],\n",
            "         [0.2236, 0.6241, 0.2386, 0.3387]],\n",
            "\n",
            "        [[0.0063, 0.6403, 0.6373, 0.5190],\n",
            "         [0.1247, 0.9267, 0.4740, 0.5727],\n",
            "         [0.3188, 0.6925, 0.9323, 0.1570]]])\n",
            "torch.Size([2, 3, 4])\n"
          ]
        }
      ]
    },
    {
      "cell_type": "code",
      "source": [
        "# permute\n",
        "\"\"\"\n",
        "rearrange the dimensions of a tensor.\n",
        "It returns a new tensor with the same data as the original but with its\n",
        "dimensions reordered according to the specified order.\n",
        "\n",
        "usecase:\n",
        "In image processing, tensors often have shapes like (C, H, W)\n",
        "(Channel, Height, Width) or (N, C, H, W) (Batch, Channel, Height, Width).\n",
        "\n",
        "Suppose you need to convert an image tensor from (C, H, W) to (H, W, C)\n",
        "(as expected by some libraries like OpenCV).\n",
        "\"\"\"\n",
        "\n",
        "print(z2.permute(2,0,1))\n",
        "print(z2.permute(2,0,1).shape)"
      ],
      "metadata": {
        "colab": {
          "base_uri": "https://localhost:8080/"
        },
        "id": "A5c-BVJNgcLE",
        "outputId": "1b51ad7d-4564-464f-e78d-fabd81d0b323"
      },
      "execution_count": 13,
      "outputs": [
        {
          "output_type": "stream",
          "name": "stdout",
          "text": [
            "tensor([[[0.4497, 0.9270, 0.4840],\n",
            "         [0.2462, 0.0379, 0.0848]],\n",
            "\n",
            "        [[0.3063, 0.1125, 0.8437],\n",
            "         [0.4769, 0.8260, 0.9161]],\n",
            "\n",
            "        [[0.2982, 0.0532, 0.0903],\n",
            "         [0.2037, 0.7304, 0.4593]],\n",
            "\n",
            "        [[0.1747, 0.8204, 0.7634],\n",
            "         [0.2673, 0.9434, 0.0510]]])\n",
            "torch.Size([4, 2, 3])\n"
          ]
        }
      ]
    },
    {
      "cell_type": "code",
      "source": [
        "print(z2.permute(1,2,0))\n",
        "print(z2.permute(1,2,0).shape)"
      ],
      "metadata": {
        "colab": {
          "base_uri": "https://localhost:8080/"
        },
        "id": "RAuX-2YMg-C5",
        "outputId": "d756126b-db1b-49b0-a09f-bf2778fe781a"
      },
      "execution_count": 14,
      "outputs": [
        {
          "output_type": "stream",
          "name": "stdout",
          "text": [
            "tensor([[[0.4497, 0.2462],\n",
            "         [0.3063, 0.4769],\n",
            "         [0.2982, 0.2037],\n",
            "         [0.1747, 0.2673]],\n",
            "\n",
            "        [[0.9270, 0.0379],\n",
            "         [0.1125, 0.8260],\n",
            "         [0.0532, 0.7304],\n",
            "         [0.8204, 0.9434]],\n",
            "\n",
            "        [[0.4840, 0.0848],\n",
            "         [0.8437, 0.9161],\n",
            "         [0.0903, 0.4593],\n",
            "         [0.7634, 0.0510]]])\n",
            "torch.Size([3, 4, 2])\n"
          ]
        }
      ]
    },
    {
      "cell_type": "code",
      "source": [
        "print(z2.permute(0,1,2)) # keeping tensor shape as it is\n",
        "print(z2.permute(0,1,2).shape)"
      ],
      "metadata": {
        "colab": {
          "base_uri": "https://localhost:8080/"
        },
        "id": "vMRb1EKmng5H",
        "outputId": "7eb7135d-e8ac-4202-fc28-389d27029f0a"
      },
      "execution_count": 16,
      "outputs": [
        {
          "output_type": "stream",
          "name": "stdout",
          "text": [
            "tensor([[[0.4497, 0.3063, 0.2982, 0.1747],\n",
            "         [0.9270, 0.1125, 0.0532, 0.8204],\n",
            "         [0.4840, 0.8437, 0.0903, 0.7634]],\n",
            "\n",
            "        [[0.2462, 0.4769, 0.2037, 0.2673],\n",
            "         [0.0379, 0.8260, 0.7304, 0.9434],\n",
            "         [0.0848, 0.9161, 0.4593, 0.0510]]])\n",
            "torch.Size([2, 3, 4])\n"
          ]
        }
      ]
    },
    {
      "cell_type": "code",
      "source": [
        "# Create a tensor of shape (2, 3, 4)\n",
        "x = torch.randn(2, 3, 4)\n",
        "print(\"Original shape:\", x.shape)\n",
        "print(\"Original strides:\", x.stride())\n",
        "\n",
        "# Permute dimensions to (4, 3, 2)\n",
        "y = x.permute(2, 1, 0)\n",
        "print(\"Permuted shape:\", y.shape)\n",
        "print(\"Permuted strides:\", y.stride())"
      ],
      "metadata": {
        "colab": {
          "base_uri": "https://localhost:8080/"
        },
        "id": "jocnw5fn79PZ",
        "outputId": "bdc53a8e-347f-4f96-a92a-f7117ac2c6fc"
      },
      "execution_count": 5,
      "outputs": [
        {
          "output_type": "stream",
          "name": "stdout",
          "text": [
            "Original shape: torch.Size([2, 3, 4])\n",
            "Original strides: (12, 4, 1)\n",
            "Permuted shape: torch.Size([4, 3, 2])\n",
            "Permuted strides: (1, 4, 12)\n"
          ]
        }
      ]
    },
    {
      "cell_type": "code",
      "source": [
        "# unsqueeze -> adding new dimension at specified position\n",
        "z3 = torch.rand(2,4)\n",
        "print(z3)\n",
        "print(z3.shape)\n",
        "print(\"=======================\")\n",
        "print(z3.unsqueeze(0))\n",
        "print(z3.unsqueeze(0).shape)\n",
        "print(\"=======================\")\n",
        "print(z3.unsqueeze(1))\n",
        "print(z3.unsqueeze(1).shape)"
      ],
      "metadata": {
        "colab": {
          "base_uri": "https://localhost:8080/"
        },
        "id": "zq5iesNcnun3",
        "outputId": "38df7a23-938f-4b31-be2d-1296f8445d98"
      },
      "execution_count": 9,
      "outputs": [
        {
          "output_type": "stream",
          "name": "stdout",
          "text": [
            "tensor([[0.9361, 0.9800, 0.6825, 0.9446],\n",
            "        [0.1461, 0.3444, 0.4662, 0.6509]])\n",
            "torch.Size([2, 4])\n",
            "=======================\n",
            "tensor([[[0.9361, 0.9800, 0.6825, 0.9446],\n",
            "         [0.1461, 0.3444, 0.4662, 0.6509]]])\n",
            "torch.Size([1, 2, 4])\n",
            "=======================\n",
            "tensor([[[0.9361, 0.9800, 0.6825, 0.9446]],\n",
            "\n",
            "        [[0.1461, 0.3444, 0.4662, 0.6509]]])\n",
            "torch.Size([2, 1, 4])\n"
          ]
        }
      ]
    },
    {
      "cell_type": "code",
      "source": [
        "z3 = torch.rand(3,2,4)\n",
        "print(z3)\n",
        "print(z3.shape)\n",
        "print(\"=======================\")\n",
        "print(z3.unsqueeze(0))\n",
        "print(z3.unsqueeze(0).shape)\n",
        "print(\"=======================\")\n",
        "print(z3.unsqueeze(1))\n",
        "print(z3.unsqueeze(1).shape)\n",
        "print(\"=======================\")\n",
        "print(z3.unsqueeze(2))\n",
        "print(z3.unsqueeze(2).shape)"
      ],
      "metadata": {
        "colab": {
          "base_uri": "https://localhost:8080/"
        },
        "id": "4TJFUSLc7-HZ",
        "outputId": "f659da0d-f315-4d3a-a10f-f8dba62e864e"
      },
      "execution_count": 10,
      "outputs": [
        {
          "output_type": "stream",
          "name": "stdout",
          "text": [
            "tensor([[[0.4857, 0.6973, 0.8087, 0.0641],\n",
            "         [0.0103, 0.3190, 0.9779, 0.9550]],\n",
            "\n",
            "        [[0.5263, 0.4109, 0.2368, 0.3458],\n",
            "         [0.9952, 0.6133, 0.2767, 0.6828]],\n",
            "\n",
            "        [[0.2091, 0.9884, 0.9401, 0.2631],\n",
            "         [0.4152, 0.7402, 0.8823, 0.4566]]])\n",
            "torch.Size([3, 2, 4])\n",
            "=======================\n",
            "tensor([[[[0.4857, 0.6973, 0.8087, 0.0641],\n",
            "          [0.0103, 0.3190, 0.9779, 0.9550]],\n",
            "\n",
            "         [[0.5263, 0.4109, 0.2368, 0.3458],\n",
            "          [0.9952, 0.6133, 0.2767, 0.6828]],\n",
            "\n",
            "         [[0.2091, 0.9884, 0.9401, 0.2631],\n",
            "          [0.4152, 0.7402, 0.8823, 0.4566]]]])\n",
            "torch.Size([1, 3, 2, 4])\n",
            "=======================\n",
            "tensor([[[[0.4857, 0.6973, 0.8087, 0.0641],\n",
            "          [0.0103, 0.3190, 0.9779, 0.9550]]],\n",
            "\n",
            "\n",
            "        [[[0.5263, 0.4109, 0.2368, 0.3458],\n",
            "          [0.9952, 0.6133, 0.2767, 0.6828]]],\n",
            "\n",
            "\n",
            "        [[[0.2091, 0.9884, 0.9401, 0.2631],\n",
            "          [0.4152, 0.7402, 0.8823, 0.4566]]]])\n",
            "torch.Size([3, 1, 2, 4])\n",
            "=======================\n",
            "tensor([[[[0.4857, 0.6973, 0.8087, 0.0641]],\n",
            "\n",
            "         [[0.0103, 0.3190, 0.9779, 0.9550]]],\n",
            "\n",
            "\n",
            "        [[[0.5263, 0.4109, 0.2368, 0.3458]],\n",
            "\n",
            "         [[0.9952, 0.6133, 0.2767, 0.6828]]],\n",
            "\n",
            "\n",
            "        [[[0.2091, 0.9884, 0.9401, 0.2631]],\n",
            "\n",
            "         [[0.4152, 0.7402, 0.8823, 0.4566]]]])\n",
            "torch.Size([3, 2, 1, 4])\n"
          ]
        }
      ]
    },
    {
      "cell_type": "code",
      "source": [
        "# squeeze\n",
        "\"\"\"\n",
        "Removes all dimensions of size 1 from the tensor's shape. If a specific\n",
        "dimension is specified with dim, it removes that dimension only if its size is 1.\n",
        "\"\"\"\n",
        "z4 = torch.rand(1,2,4)\n",
        "print(z4)\n",
        "print(z4.shape)\n",
        "print(\"=======================\")\n",
        "print(z4.squeeze(0))\n",
        "print(z4.squeeze(0).shape)\n",
        "print(\"=======================\")\n",
        "print(z4.squeeze(1))\n",
        "print(z4.squeeze(1).shape)\n",
        "print(\"=======================\")\n",
        "print(z4.squeeze())\n",
        "print(z4.squeeze().shape)"
      ],
      "metadata": {
        "colab": {
          "base_uri": "https://localhost:8080/"
        },
        "id": "h1YoCHXL8EPS",
        "outputId": "7bbf5b9b-d3ba-4f08-ed0d-b27ae669fabb"
      },
      "execution_count": 12,
      "outputs": [
        {
          "output_type": "stream",
          "name": "stdout",
          "text": [
            "tensor([[[0.2030, 0.4615, 0.5432, 0.5483],\n",
            "         [0.7444, 0.0255, 0.9939, 0.8570]]])\n",
            "torch.Size([1, 2, 4])\n",
            "=======================\n",
            "tensor([[0.2030, 0.4615, 0.5432, 0.5483],\n",
            "        [0.7444, 0.0255, 0.9939, 0.8570]])\n",
            "torch.Size([2, 4])\n",
            "=======================\n",
            "tensor([[[0.2030, 0.4615, 0.5432, 0.5483],\n",
            "         [0.7444, 0.0255, 0.9939, 0.8570]]])\n",
            "torch.Size([1, 2, 4])\n",
            "=======================\n",
            "tensor([[0.2030, 0.4615, 0.5432, 0.5483],\n",
            "        [0.7444, 0.0255, 0.9939, 0.8570]])\n",
            "torch.Size([2, 4])\n"
          ]
        }
      ]
    },
    {
      "cell_type": "markdown",
      "source": [
        "## Numpy and pytorch"
      ],
      "metadata": {
        "id": "l3_2Ecq5Bsad"
      }
    },
    {
      "cell_type": "code",
      "source": [
        "# converting pytorch tensor into numpy array\n",
        "\n",
        "z5 = torch.tensor([1,2,3]) # pytorch tensor\n",
        "print(z5)\n",
        "print(type(z5))\n",
        "print(\"=============================================\")\n",
        "z6 = z5.numpy() # converting into numpy array\n",
        "print(z6)\n",
        "print(type(z6))"
      ],
      "metadata": {
        "colab": {
          "base_uri": "https://localhost:8080/"
        },
        "id": "T3IjuLqa_cv2",
        "outputId": "1b37e1cb-bbd9-44b1-8a3e-0659f785e9a9"
      },
      "execution_count": 14,
      "outputs": [
        {
          "output_type": "stream",
          "name": "stdout",
          "text": [
            "tensor([1, 2, 3])\n",
            "<class 'torch.Tensor'>\n",
            "=============================================\n",
            "[1 2 3]\n",
            "<class 'numpy.ndarray'>\n"
          ]
        }
      ]
    },
    {
      "cell_type": "code",
      "source": [
        "# converting numpy array into pytorch tensor\n",
        "import numpy as np\n",
        "z7 = np.array([10,12,23])\n",
        "print(z7)\n",
        "print(type(z7))\n",
        "print(\"=============================================\")\n",
        "z8 = torch.from_numpy(z7) # converting into pytorch tensor\n",
        "print(z8)\n",
        "print(type(z8))"
      ],
      "metadata": {
        "colab": {
          "base_uri": "https://localhost:8080/"
        },
        "id": "cs4hqhA_CKvk",
        "outputId": "9ae9b9e0-54aa-4649-8ed6-3a03196a0a52"
      },
      "execution_count": 16,
      "outputs": [
        {
          "output_type": "stream",
          "name": "stdout",
          "text": [
            "[10 12 23]\n",
            "<class 'numpy.ndarray'>\n",
            "=============================================\n",
            "tensor([10, 12, 23])\n",
            "<class 'torch.Tensor'>\n"
          ]
        }
      ]
    }
  ]
}