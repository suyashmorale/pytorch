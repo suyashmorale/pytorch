{
  "nbformat": 4,
  "nbformat_minor": 0,
  "metadata": {
    "colab": {
      "provenance": []
    },
    "kernelspec": {
      "name": "python3",
      "display_name": "Python 3"
    },
    "language_info": {
      "name": "python"
    }
  },
  "cells": [
    {
      "cell_type": "code",
      "execution_count": 1,
      "metadata": {
        "id": "MLubdpTrzITL"
      },
      "outputs": [],
      "source": [
        "import torch\n",
        "import torch.nn as nn"
      ]
    },
    {
      "cell_type": "code",
      "source": [
        "# creating model class\n",
        "\n",
        "class nnModel(nn.Module): # we have to inherent the nn.Module class in our class\n",
        "\n",
        "  def __init__(self,num_features):\n",
        "    super().__init__()              # invoking the parent class constructor\n",
        "    self.linear = nn.Linear(num_features,1) # creating linear layer\n",
        "    self.sigmoid = nn.Sigmoid() # activation function\n",
        "\n",
        "# forward pass function\n",
        "  def forward(self,X):\n",
        "    X = self.linear(X)\n",
        "    X = self.sigmoid(X)\n",
        "    return X\n"
      ],
      "metadata": {
        "id": "uvQFHb8Bznyz"
      },
      "execution_count": null,
      "outputs": []
    },
    {
      "cell_type": "code",
      "source": [
        "# creating data\n",
        "data = torch.rand(10,5)\n",
        "print(data)"
      ],
      "metadata": {
        "colab": {
          "base_uri": "https://localhost:8080/"
        },
        "id": "kGqcil5sHcqA",
        "outputId": "2aaf812b-9677-4a95-ed86-955e6a0b7215"
      },
      "execution_count": null,
      "outputs": [
        {
          "output_type": "stream",
          "name": "stdout",
          "text": [
            "tensor([[0.5535, 0.2436, 0.3970, 0.8280, 0.2811],\n",
            "        [0.7667, 0.6435, 0.1088, 0.4492, 0.7695],\n",
            "        [0.9690, 0.0559, 0.8971, 0.8003, 0.4075],\n",
            "        [0.9781, 0.8475, 0.0896, 0.1353, 0.7658],\n",
            "        [0.1423, 0.8387, 0.8663, 0.4162, 0.1066],\n",
            "        [0.0937, 0.6195, 0.2834, 0.6710, 0.3329],\n",
            "        [0.8524, 0.7509, 0.3122, 0.0919, 0.9024],\n",
            "        [0.9809, 0.5556, 0.3283, 0.0394, 0.0267],\n",
            "        [0.4275, 0.4652, 0.8372, 0.3162, 0.1152],\n",
            "        [0.1663, 0.3107, 0.8231, 0.6724, 0.4380]])\n"
          ]
        }
      ]
    },
    {
      "cell_type": "code",
      "source": [
        "# creating model\n",
        "model = nnModel(data.shape[1])\n",
        "\n",
        "# calling forwardpass function\n",
        "# model.forward(data)\n",
        "# instead of above line you can also write as\n",
        "model(data) # nn model have magic fucntion internally, who ensures that whenever object of class is called forward function get triggered"
      ],
      "metadata": {
        "colab": {
          "base_uri": "https://localhost:8080/"
        },
        "id": "Y6usILCAHjIL",
        "outputId": "8a9e1423-e97c-424a-f790-0ab5c82eb542"
      },
      "execution_count": null,
      "outputs": [
        {
          "output_type": "execute_result",
          "data": {
            "text/plain": [
              "tensor([[0.3754],\n",
              "        [0.4453],\n",
              "        [0.4357],\n",
              "        [0.4714],\n",
              "        [0.2936],\n",
              "        [0.3218],\n",
              "        [0.4819],\n",
              "        [0.4227],\n",
              "        [0.3574],\n",
              "        [0.3538]], grad_fn=<SigmoidBackward0>)"
            ]
          },
          "metadata": {},
          "execution_count": 4
        }
      ]
    },
    {
      "cell_type": "markdown",
      "source": [
        "we got 10 outputs because we have 10 samples in our data"
      ],
      "metadata": {
        "id": "CzUTQSLMIxBr"
      }
    },
    {
      "cell_type": "code",
      "source": [
        "# model weights\n",
        "model.linear.weight"
      ],
      "metadata": {
        "colab": {
          "base_uri": "https://localhost:8080/"
        },
        "id": "VQCIqWVwIlLM",
        "outputId": "b372b870-d77d-496b-9366-0ec17a00575b"
      },
      "execution_count": null,
      "outputs": [
        {
          "output_type": "execute_result",
          "data": {
            "text/plain": [
              "Parameter containing:\n",
              "tensor([[ 0.3835, -0.3832, -0.0892, -0.3256,  0.4331]], requires_grad=True)"
            ]
          },
          "metadata": {},
          "execution_count": 5
        }
      ]
    },
    {
      "cell_type": "code",
      "source": [
        "# model bias\n",
        "model.linear.bias"
      ],
      "metadata": {
        "colab": {
          "base_uri": "https://localhost:8080/"
        },
        "id": "41YznwDSI86Y",
        "outputId": "af34367e-97b8-4f08-cadc-6b66a0d15de8"
      },
      "execution_count": null,
      "outputs": [
        {
          "output_type": "execute_result",
          "data": {
            "text/plain": [
              "Parameter containing:\n",
              "tensor([-0.4446], requires_grad=True)"
            ]
          },
          "metadata": {},
          "execution_count": 6
        }
      ]
    },
    {
      "cell_type": "code",
      "source": [
        "# summarising this model architecture\n",
        "\n",
        "!pip install torchinfo"
      ],
      "metadata": {
        "colab": {
          "base_uri": "https://localhost:8080/"
        },
        "id": "_Ew3SmXOJCow",
        "outputId": "4594a83a-32d4-470b-a92f-1ab54daad44d"
      },
      "execution_count": null,
      "outputs": [
        {
          "output_type": "stream",
          "name": "stdout",
          "text": [
            "Collecting torchinfo\n",
            "  Downloading torchinfo-1.8.0-py3-none-any.whl.metadata (21 kB)\n",
            "Downloading torchinfo-1.8.0-py3-none-any.whl (23 kB)\n",
            "Installing collected packages: torchinfo\n",
            "Successfully installed torchinfo-1.8.0\n"
          ]
        }
      ]
    },
    {
      "cell_type": "code",
      "source": [
        "from torchinfo import summary\n",
        "summary(model, input_size=(10,5))"
      ],
      "metadata": {
        "colab": {
          "base_uri": "https://localhost:8080/"
        },
        "id": "6vAU88FjJLfm",
        "outputId": "30e505a9-b464-477f-d7bc-508c9645d9ca"
      },
      "execution_count": null,
      "outputs": [
        {
          "output_type": "execute_result",
          "data": {
            "text/plain": [
              "==========================================================================================\n",
              "Layer (type:depth-idx)                   Output Shape              Param #\n",
              "==========================================================================================\n",
              "nnModel                                  [10, 1]                   --\n",
              "├─Linear: 1-1                            [10, 1]                   6\n",
              "├─Sigmoid: 1-2                           [10, 1]                   --\n",
              "==========================================================================================\n",
              "Total params: 6\n",
              "Trainable params: 6\n",
              "Non-trainable params: 0\n",
              "Total mult-adds (M): 0.00\n",
              "==========================================================================================\n",
              "Input size (MB): 0.00\n",
              "Forward/backward pass size (MB): 0.00\n",
              "Params size (MB): 0.00\n",
              "Estimated Total Size (MB): 0.00\n",
              "=========================================================================================="
            ]
          },
          "metadata": {},
          "execution_count": 8
        }
      ]
    },
    {
      "cell_type": "markdown",
      "source": [
        "# ================================================="
      ],
      "metadata": {
        "id": "WIh8Bzi7AAE_"
      }
    },
    {
      "cell_type": "markdown",
      "source": [
        "**Creating Neural Network having one hidden layer with 3 neurons and one output layer with one neuron**"
      ],
      "metadata": {
        "id": "OdCBLsYvAFcN"
      }
    },
    {
      "cell_type": "code",
      "source": [
        "class dnn(nn.Module):\n",
        "  def __init__(self, num_features):\n",
        "    super().__init__()\n",
        "    self.linear1 = nn.Linear(num_features,3)\n",
        "    self.relu = nn.ReLU()\n",
        "    self.linear2 = nn.Linear(3,1)\n",
        "    self.sigmoid = nn.Sigmoid()\n",
        "\n",
        "  def forward(self,X):\n",
        "    X = self.linear1(X)\n",
        "    X = self.relu(X)\n",
        "    X = self.linear2(X)\n",
        "    X = self.sigmoid(X)\n",
        "\n",
        "    return X"
      ],
      "metadata": {
        "id": "dhrAPL3IJXJ2"
      },
      "execution_count": null,
      "outputs": []
    },
    {
      "cell_type": "code",
      "source": [
        "data"
      ],
      "metadata": {
        "colab": {
          "base_uri": "https://localhost:8080/"
        },
        "id": "BQ6R2ERPCVLE",
        "outputId": "b5b4a972-24c6-45f8-98b3-e0623b3cdf37"
      },
      "execution_count": null,
      "outputs": [
        {
          "output_type": "execute_result",
          "data": {
            "text/plain": [
              "tensor([[0.5535, 0.2436, 0.3970, 0.8280, 0.2811],\n",
              "        [0.7667, 0.6435, 0.1088, 0.4492, 0.7695],\n",
              "        [0.9690, 0.0559, 0.8971, 0.8003, 0.4075],\n",
              "        [0.9781, 0.8475, 0.0896, 0.1353, 0.7658],\n",
              "        [0.1423, 0.8387, 0.8663, 0.4162, 0.1066],\n",
              "        [0.0937, 0.6195, 0.2834, 0.6710, 0.3329],\n",
              "        [0.8524, 0.7509, 0.3122, 0.0919, 0.9024],\n",
              "        [0.9809, 0.5556, 0.3283, 0.0394, 0.0267],\n",
              "        [0.4275, 0.4652, 0.8372, 0.3162, 0.1152],\n",
              "        [0.1663, 0.3107, 0.8231, 0.6724, 0.4380]])"
            ]
          },
          "metadata": {},
          "execution_count": 11
        }
      ]
    },
    {
      "cell_type": "code",
      "source": [
        "dnn_model = dnn(data.shape[1])"
      ],
      "metadata": {
        "id": "POqFXFLEDltd"
      },
      "execution_count": null,
      "outputs": []
    },
    {
      "cell_type": "code",
      "source": [
        "dnn_model"
      ],
      "metadata": {
        "colab": {
          "base_uri": "https://localhost:8080/"
        },
        "id": "SHb20pqkDv1_",
        "outputId": "f717ef6e-c5c5-4d8b-a0de-bba14b286feb"
      },
      "execution_count": null,
      "outputs": [
        {
          "output_type": "execute_result",
          "data": {
            "text/plain": [
              "dnn(\n",
              "  (linear1): Linear(in_features=5, out_features=3, bias=True)\n",
              "  (relu): ReLU()\n",
              "  (linear2): Linear(in_features=3, out_features=1, bias=True)\n",
              "  (sigmoid): Sigmoid()\n",
              ")"
            ]
          },
          "metadata": {},
          "execution_count": 13
        }
      ]
    },
    {
      "cell_type": "code",
      "source": [
        "# forward pass\n",
        "dnn_model(data)"
      ],
      "metadata": {
        "colab": {
          "base_uri": "https://localhost:8080/"
        },
        "id": "SPvcaOGYDxIT",
        "outputId": "aef55814-6229-42d1-9be2-09bcebbbe3dc"
      },
      "execution_count": null,
      "outputs": [
        {
          "output_type": "execute_result",
          "data": {
            "text/plain": [
              "tensor([[0.3990],\n",
              "        [0.3854],\n",
              "        [0.4484],\n",
              "        [0.3947],\n",
              "        [0.4186],\n",
              "        [0.3733],\n",
              "        [0.4015],\n",
              "        [0.4275],\n",
              "        [0.4266],\n",
              "        [0.4087]], grad_fn=<SigmoidBackward0>)"
            ]
          },
          "metadata": {},
          "execution_count": 14
        }
      ]
    },
    {
      "cell_type": "code",
      "source": [
        "dnn_model.linear1.weight"
      ],
      "metadata": {
        "colab": {
          "base_uri": "https://localhost:8080/"
        },
        "id": "aGmQ4rgRD-IF",
        "outputId": "5df2d585-2f85-4cf0-85b4-b543d7775699"
      },
      "execution_count": null,
      "outputs": [
        {
          "output_type": "execute_result",
          "data": {
            "text/plain": [
              "Parameter containing:\n",
              "tensor([[ 0.0022,  0.3069,  0.3586,  0.1364,  0.2847],\n",
              "        [ 0.3431,  0.0980,  0.2052,  0.1473, -0.4365],\n",
              "        [-0.1860,  0.3834, -0.1588,  0.3031,  0.0765]], requires_grad=True)"
            ]
          },
          "metadata": {},
          "execution_count": 15
        }
      ]
    },
    {
      "cell_type": "code",
      "source": [
        "dnn_model.linear1.bias"
      ],
      "metadata": {
        "colab": {
          "base_uri": "https://localhost:8080/"
        },
        "id": "Eh3aLTFUEJjJ",
        "outputId": "03b13119-b7fb-4e00-d86d-b9a0f831fba5"
      },
      "execution_count": null,
      "outputs": [
        {
          "output_type": "execute_result",
          "data": {
            "text/plain": [
              "Parameter containing:\n",
              "tensor([-0.3899,  0.3001,  0.1568], requires_grad=True)"
            ]
          },
          "metadata": {},
          "execution_count": 16
        }
      ]
    },
    {
      "cell_type": "code",
      "source": [
        "dnn_model.linear2.weight"
      ],
      "metadata": {
        "colab": {
          "base_uri": "https://localhost:8080/"
        },
        "id": "q-bt26zqEMlZ",
        "outputId": "df99e1a1-3e95-4147-b0a3-c44d49547c7b"
      },
      "execution_count": null,
      "outputs": [
        {
          "output_type": "execute_result",
          "data": {
            "text/plain": [
              "Parameter containing:\n",
              "tensor([[ 0.4243,  0.3412, -0.3518]], requires_grad=True)"
            ]
          },
          "metadata": {},
          "execution_count": 17
        }
      ]
    },
    {
      "cell_type": "code",
      "source": [
        "dnn_model.linear2.bias"
      ],
      "metadata": {
        "colab": {
          "base_uri": "https://localhost:8080/"
        },
        "id": "w2ID8pPVEQ2d",
        "outputId": "c8dd6bd1-ee4b-4164-d727-4c079d0ec5d7"
      },
      "execution_count": null,
      "outputs": [
        {
          "output_type": "execute_result",
          "data": {
            "text/plain": [
              "Parameter containing:\n",
              "tensor([-0.4963], requires_grad=True)"
            ]
          },
          "metadata": {},
          "execution_count": 18
        }
      ]
    },
    {
      "cell_type": "code",
      "source": [
        "summary(dnn_model)"
      ],
      "metadata": {
        "colab": {
          "base_uri": "https://localhost:8080/"
        },
        "id": "tUrhZWbXESvP",
        "outputId": "d1f68c7d-6dc3-49f0-c476-a3f7a34309d7"
      },
      "execution_count": null,
      "outputs": [
        {
          "output_type": "execute_result",
          "data": {
            "text/plain": [
              "=================================================================\n",
              "Layer (type:depth-idx)                   Param #\n",
              "=================================================================\n",
              "dnn                                      --\n",
              "├─Linear: 1-1                            18\n",
              "├─ReLU: 1-2                              --\n",
              "├─Linear: 1-3                            4\n",
              "├─Sigmoid: 1-4                           --\n",
              "=================================================================\n",
              "Total params: 22\n",
              "Trainable params: 22\n",
              "Non-trainable params: 0\n",
              "================================================================="
            ]
          },
          "metadata": {},
          "execution_count": 19
        }
      ]
    },
    {
      "cell_type": "markdown",
      "source": [
        "**Using Sequential Containers**"
      ],
      "metadata": {
        "id": "GC_GNQaOEhtc"
      }
    },
    {
      "cell_type": "code",
      "source": [
        "class dnn1(nn.Module):\n",
        "  def __init__(self, num_features):\n",
        "    super().__init__()\n",
        "    self.network = nn.Sequential(\n",
        "        nn.Linear(num_features,3),\n",
        "        nn.ReLU(),\n",
        "        nn.Linear(3,1),\n",
        "        nn.Sigmoid(),\n",
        "    )\n",
        "\n",
        "  def forward(self,X):\n",
        "    out =  self.network(X)\n",
        "    return out"
      ],
      "metadata": {
        "id": "t6nR8Xf8EYPD"
      },
      "execution_count": null,
      "outputs": []
    },
    {
      "cell_type": "code",
      "source": [
        "data"
      ],
      "metadata": {
        "colab": {
          "base_uri": "https://localhost:8080/"
        },
        "id": "C8Qs1NZ6H6a_",
        "outputId": "af00daef-55bd-4011-c42e-c1e254375669"
      },
      "execution_count": null,
      "outputs": [
        {
          "output_type": "execute_result",
          "data": {
            "text/plain": [
              "tensor([[0.5535, 0.2436, 0.3970, 0.8280, 0.2811],\n",
              "        [0.7667, 0.6435, 0.1088, 0.4492, 0.7695],\n",
              "        [0.9690, 0.0559, 0.8971, 0.8003, 0.4075],\n",
              "        [0.9781, 0.8475, 0.0896, 0.1353, 0.7658],\n",
              "        [0.1423, 0.8387, 0.8663, 0.4162, 0.1066],\n",
              "        [0.0937, 0.6195, 0.2834, 0.6710, 0.3329],\n",
              "        [0.8524, 0.7509, 0.3122, 0.0919, 0.9024],\n",
              "        [0.9809, 0.5556, 0.3283, 0.0394, 0.0267],\n",
              "        [0.4275, 0.4652, 0.8372, 0.3162, 0.1152],\n",
              "        [0.1663, 0.3107, 0.8231, 0.6724, 0.4380]])"
            ]
          },
          "metadata": {},
          "execution_count": 21
        }
      ]
    },
    {
      "cell_type": "code",
      "source": [
        "dnn_model1 = dnn1(data.shape[1])\n",
        "\n",
        "dnn_model1(data)"
      ],
      "metadata": {
        "colab": {
          "base_uri": "https://localhost:8080/"
        },
        "id": "ZBnhMX9EH8T3",
        "outputId": "854d4eb4-a7dc-4f61-faf5-a2e8a97d78e5"
      },
      "execution_count": null,
      "outputs": [
        {
          "output_type": "execute_result",
          "data": {
            "text/plain": [
              "tensor([[0.4429],\n",
              "        [0.4578],\n",
              "        [0.4595],\n",
              "        [0.4602],\n",
              "        [0.4438],\n",
              "        [0.4450],\n",
              "        [0.4648],\n",
              "        [0.4413],\n",
              "        [0.4422],\n",
              "        [0.4414]], grad_fn=<SigmoidBackward0>)"
            ]
          },
          "metadata": {},
          "execution_count": 22
        }
      ]
    },
    {
      "cell_type": "code",
      "source": [
        "dnn_model1.network"
      ],
      "metadata": {
        "colab": {
          "base_uri": "https://localhost:8080/"
        },
        "id": "tYnh-91LI38m",
        "outputId": "e5883d3c-4706-4f7d-97b4-721d0acb977d"
      },
      "execution_count": null,
      "outputs": [
        {
          "output_type": "execute_result",
          "data": {
            "text/plain": [
              "Sequential(\n",
              "  (0): Linear(in_features=5, out_features=3, bias=True)\n",
              "  (1): ReLU()\n",
              "  (2): Linear(in_features=3, out_features=1, bias=True)\n",
              "  (3): Sigmoid()\n",
              ")"
            ]
          },
          "metadata": {},
          "execution_count": 28
        }
      ]
    },
    {
      "cell_type": "code",
      "source": [
        "dnn_model1.network[0].weight"
      ],
      "metadata": {
        "colab": {
          "base_uri": "https://localhost:8080/"
        },
        "id": "r2_h4F-uIdSE",
        "outputId": "9feace54-8600-4e71-df51-e80ef6094a42"
      },
      "execution_count": null,
      "outputs": [
        {
          "output_type": "execute_result",
          "data": {
            "text/plain": [
              "Parameter containing:\n",
              "tensor([[ 0.0214,  0.1727, -0.3264, -0.0177, -0.3887],\n",
              "        [ 0.3531, -0.2703,  0.1111, -0.0973,  0.2147],\n",
              "        [-0.1177,  0.2078, -0.2656, -0.1003,  0.0105]], requires_grad=True)"
            ]
          },
          "metadata": {},
          "execution_count": 26
        }
      ]
    },
    {
      "cell_type": "code",
      "source": [
        "dnn_model1.network[0].bias"
      ],
      "metadata": {
        "colab": {
          "base_uri": "https://localhost:8080/"
        },
        "id": "ahX2XZKuJtvP",
        "outputId": "a5a83a89-c298-4104-8375-9b9941564e64"
      },
      "execution_count": null,
      "outputs": [
        {
          "output_type": "execute_result",
          "data": {
            "text/plain": [
              "Parameter containing:\n",
              "tensor([ 0.2486, -0.1092,  0.2624], requires_grad=True)"
            ]
          },
          "metadata": {},
          "execution_count": 29
        }
      ]
    },
    {
      "cell_type": "code",
      "source": [
        "dnn_model1.network[2].weight"
      ],
      "metadata": {
        "colab": {
          "base_uri": "https://localhost:8080/"
        },
        "id": "IZodxkieIqPR",
        "outputId": "80e99aea-632c-4731-a816-11b642395c29"
      },
      "execution_count": null,
      "outputs": [
        {
          "output_type": "execute_result",
          "data": {
            "text/plain": [
              "Parameter containing:\n",
              "tensor([[-0.2491,  0.2410,  0.2119]], requires_grad=True)"
            ]
          },
          "metadata": {},
          "execution_count": 27
        }
      ]
    },
    {
      "cell_type": "code",
      "source": [
        "dnn_model1.network[2].bias"
      ],
      "metadata": {
        "colab": {
          "base_uri": "https://localhost:8080/"
        },
        "id": "0rklaK5ZIzoU",
        "outputId": "395c6135-46c1-4132-ec8d-bb9820ad306e"
      },
      "execution_count": null,
      "outputs": [
        {
          "output_type": "execute_result",
          "data": {
            "text/plain": [
              "Parameter containing:\n",
              "tensor([-0.2410], requires_grad=True)"
            ]
          },
          "metadata": {},
          "execution_count": 30
        }
      ]
    },
    {
      "cell_type": "markdown",
      "source": [
        "# Implementing On Real Dataset"
      ],
      "metadata": {
        "id": "83RGLfZCKlAG"
      }
    },
    {
      "cell_type": "code",
      "source": [
        "import numpy as np\n",
        "import pandas as pd\n",
        "import torch\n",
        "from sklearn.model_selection import train_test_split\n",
        "from sklearn.preprocessing import StandardScaler, LabelEncoder"
      ],
      "metadata": {
        "id": "gHGQMmUZKkyF"
      },
      "execution_count": 2,
      "outputs": []
    },
    {
      "cell_type": "code",
      "source": [
        "df = pd.read_csv('https://raw.githubusercontent.com/gscdit/Breast-Cancer-Detection/refs/heads/master/data.csv')\n",
        "df.head()"
      ],
      "metadata": {
        "id": "DEA99qdRJ2AN",
        "colab": {
          "base_uri": "https://localhost:8080/",
          "height": 273
        },
        "outputId": "40193255-74f6-4eee-b64c-8bc662b27f41"
      },
      "execution_count": 3,
      "outputs": [
        {
          "output_type": "execute_result",
          "data": {
            "text/plain": [
              "         id diagnosis  radius_mean  texture_mean  perimeter_mean  area_mean  \\\n",
              "0    842302         M        17.99         10.38          122.80     1001.0   \n",
              "1    842517         M        20.57         17.77          132.90     1326.0   \n",
              "2  84300903         M        19.69         21.25          130.00     1203.0   \n",
              "3  84348301         M        11.42         20.38           77.58      386.1   \n",
              "4  84358402         M        20.29         14.34          135.10     1297.0   \n",
              "\n",
              "   smoothness_mean  compactness_mean  concavity_mean  concave points_mean  \\\n",
              "0          0.11840           0.27760          0.3001              0.14710   \n",
              "1          0.08474           0.07864          0.0869              0.07017   \n",
              "2          0.10960           0.15990          0.1974              0.12790   \n",
              "3          0.14250           0.28390          0.2414              0.10520   \n",
              "4          0.10030           0.13280          0.1980              0.10430   \n",
              "\n",
              "   ...  texture_worst  perimeter_worst  area_worst  smoothness_worst  \\\n",
              "0  ...          17.33           184.60      2019.0            0.1622   \n",
              "1  ...          23.41           158.80      1956.0            0.1238   \n",
              "2  ...          25.53           152.50      1709.0            0.1444   \n",
              "3  ...          26.50            98.87       567.7            0.2098   \n",
              "4  ...          16.67           152.20      1575.0            0.1374   \n",
              "\n",
              "   compactness_worst  concavity_worst  concave points_worst  symmetry_worst  \\\n",
              "0             0.6656           0.7119                0.2654          0.4601   \n",
              "1             0.1866           0.2416                0.1860          0.2750   \n",
              "2             0.4245           0.4504                0.2430          0.3613   \n",
              "3             0.8663           0.6869                0.2575          0.6638   \n",
              "4             0.2050           0.4000                0.1625          0.2364   \n",
              "\n",
              "   fractal_dimension_worst  Unnamed: 32  \n",
              "0                  0.11890          NaN  \n",
              "1                  0.08902          NaN  \n",
              "2                  0.08758          NaN  \n",
              "3                  0.17300          NaN  \n",
              "4                  0.07678          NaN  \n",
              "\n",
              "[5 rows x 33 columns]"
            ],
            "text/html": [
              "\n",
              "  <div id=\"df-ced2ab5e-2010-41dd-aa66-5174f7b2c030\" class=\"colab-df-container\">\n",
              "    <div>\n",
              "<style scoped>\n",
              "    .dataframe tbody tr th:only-of-type {\n",
              "        vertical-align: middle;\n",
              "    }\n",
              "\n",
              "    .dataframe tbody tr th {\n",
              "        vertical-align: top;\n",
              "    }\n",
              "\n",
              "    .dataframe thead th {\n",
              "        text-align: right;\n",
              "    }\n",
              "</style>\n",
              "<table border=\"1\" class=\"dataframe\">\n",
              "  <thead>\n",
              "    <tr style=\"text-align: right;\">\n",
              "      <th></th>\n",
              "      <th>id</th>\n",
              "      <th>diagnosis</th>\n",
              "      <th>radius_mean</th>\n",
              "      <th>texture_mean</th>\n",
              "      <th>perimeter_mean</th>\n",
              "      <th>area_mean</th>\n",
              "      <th>smoothness_mean</th>\n",
              "      <th>compactness_mean</th>\n",
              "      <th>concavity_mean</th>\n",
              "      <th>concave points_mean</th>\n",
              "      <th>...</th>\n",
              "      <th>texture_worst</th>\n",
              "      <th>perimeter_worst</th>\n",
              "      <th>area_worst</th>\n",
              "      <th>smoothness_worst</th>\n",
              "      <th>compactness_worst</th>\n",
              "      <th>concavity_worst</th>\n",
              "      <th>concave points_worst</th>\n",
              "      <th>symmetry_worst</th>\n",
              "      <th>fractal_dimension_worst</th>\n",
              "      <th>Unnamed: 32</th>\n",
              "    </tr>\n",
              "  </thead>\n",
              "  <tbody>\n",
              "    <tr>\n",
              "      <th>0</th>\n",
              "      <td>842302</td>\n",
              "      <td>M</td>\n",
              "      <td>17.99</td>\n",
              "      <td>10.38</td>\n",
              "      <td>122.80</td>\n",
              "      <td>1001.0</td>\n",
              "      <td>0.11840</td>\n",
              "      <td>0.27760</td>\n",
              "      <td>0.3001</td>\n",
              "      <td>0.14710</td>\n",
              "      <td>...</td>\n",
              "      <td>17.33</td>\n",
              "      <td>184.60</td>\n",
              "      <td>2019.0</td>\n",
              "      <td>0.1622</td>\n",
              "      <td>0.6656</td>\n",
              "      <td>0.7119</td>\n",
              "      <td>0.2654</td>\n",
              "      <td>0.4601</td>\n",
              "      <td>0.11890</td>\n",
              "      <td>NaN</td>\n",
              "    </tr>\n",
              "    <tr>\n",
              "      <th>1</th>\n",
              "      <td>842517</td>\n",
              "      <td>M</td>\n",
              "      <td>20.57</td>\n",
              "      <td>17.77</td>\n",
              "      <td>132.90</td>\n",
              "      <td>1326.0</td>\n",
              "      <td>0.08474</td>\n",
              "      <td>0.07864</td>\n",
              "      <td>0.0869</td>\n",
              "      <td>0.07017</td>\n",
              "      <td>...</td>\n",
              "      <td>23.41</td>\n",
              "      <td>158.80</td>\n",
              "      <td>1956.0</td>\n",
              "      <td>0.1238</td>\n",
              "      <td>0.1866</td>\n",
              "      <td>0.2416</td>\n",
              "      <td>0.1860</td>\n",
              "      <td>0.2750</td>\n",
              "      <td>0.08902</td>\n",
              "      <td>NaN</td>\n",
              "    </tr>\n",
              "    <tr>\n",
              "      <th>2</th>\n",
              "      <td>84300903</td>\n",
              "      <td>M</td>\n",
              "      <td>19.69</td>\n",
              "      <td>21.25</td>\n",
              "      <td>130.00</td>\n",
              "      <td>1203.0</td>\n",
              "      <td>0.10960</td>\n",
              "      <td>0.15990</td>\n",
              "      <td>0.1974</td>\n",
              "      <td>0.12790</td>\n",
              "      <td>...</td>\n",
              "      <td>25.53</td>\n",
              "      <td>152.50</td>\n",
              "      <td>1709.0</td>\n",
              "      <td>0.1444</td>\n",
              "      <td>0.4245</td>\n",
              "      <td>0.4504</td>\n",
              "      <td>0.2430</td>\n",
              "      <td>0.3613</td>\n",
              "      <td>0.08758</td>\n",
              "      <td>NaN</td>\n",
              "    </tr>\n",
              "    <tr>\n",
              "      <th>3</th>\n",
              "      <td>84348301</td>\n",
              "      <td>M</td>\n",
              "      <td>11.42</td>\n",
              "      <td>20.38</td>\n",
              "      <td>77.58</td>\n",
              "      <td>386.1</td>\n",
              "      <td>0.14250</td>\n",
              "      <td>0.28390</td>\n",
              "      <td>0.2414</td>\n",
              "      <td>0.10520</td>\n",
              "      <td>...</td>\n",
              "      <td>26.50</td>\n",
              "      <td>98.87</td>\n",
              "      <td>567.7</td>\n",
              "      <td>0.2098</td>\n",
              "      <td>0.8663</td>\n",
              "      <td>0.6869</td>\n",
              "      <td>0.2575</td>\n",
              "      <td>0.6638</td>\n",
              "      <td>0.17300</td>\n",
              "      <td>NaN</td>\n",
              "    </tr>\n",
              "    <tr>\n",
              "      <th>4</th>\n",
              "      <td>84358402</td>\n",
              "      <td>M</td>\n",
              "      <td>20.29</td>\n",
              "      <td>14.34</td>\n",
              "      <td>135.10</td>\n",
              "      <td>1297.0</td>\n",
              "      <td>0.10030</td>\n",
              "      <td>0.13280</td>\n",
              "      <td>0.1980</td>\n",
              "      <td>0.10430</td>\n",
              "      <td>...</td>\n",
              "      <td>16.67</td>\n",
              "      <td>152.20</td>\n",
              "      <td>1575.0</td>\n",
              "      <td>0.1374</td>\n",
              "      <td>0.2050</td>\n",
              "      <td>0.4000</td>\n",
              "      <td>0.1625</td>\n",
              "      <td>0.2364</td>\n",
              "      <td>0.07678</td>\n",
              "      <td>NaN</td>\n",
              "    </tr>\n",
              "  </tbody>\n",
              "</table>\n",
              "<p>5 rows × 33 columns</p>\n",
              "</div>\n",
              "    <div class=\"colab-df-buttons\">\n",
              "\n",
              "  <div class=\"colab-df-container\">\n",
              "    <button class=\"colab-df-convert\" onclick=\"convertToInteractive('df-ced2ab5e-2010-41dd-aa66-5174f7b2c030')\"\n",
              "            title=\"Convert this dataframe to an interactive table.\"\n",
              "            style=\"display:none;\">\n",
              "\n",
              "  <svg xmlns=\"http://www.w3.org/2000/svg\" height=\"24px\" viewBox=\"0 -960 960 960\">\n",
              "    <path d=\"M120-120v-720h720v720H120Zm60-500h600v-160H180v160Zm220 220h160v-160H400v160Zm0 220h160v-160H400v160ZM180-400h160v-160H180v160Zm440 0h160v-160H620v160ZM180-180h160v-160H180v160Zm440 0h160v-160H620v160Z\"/>\n",
              "  </svg>\n",
              "    </button>\n",
              "\n",
              "  <style>\n",
              "    .colab-df-container {\n",
              "      display:flex;\n",
              "      gap: 12px;\n",
              "    }\n",
              "\n",
              "    .colab-df-convert {\n",
              "      background-color: #E8F0FE;\n",
              "      border: none;\n",
              "      border-radius: 50%;\n",
              "      cursor: pointer;\n",
              "      display: none;\n",
              "      fill: #1967D2;\n",
              "      height: 32px;\n",
              "      padding: 0 0 0 0;\n",
              "      width: 32px;\n",
              "    }\n",
              "\n",
              "    .colab-df-convert:hover {\n",
              "      background-color: #E2EBFA;\n",
              "      box-shadow: 0px 1px 2px rgba(60, 64, 67, 0.3), 0px 1px 3px 1px rgba(60, 64, 67, 0.15);\n",
              "      fill: #174EA6;\n",
              "    }\n",
              "\n",
              "    .colab-df-buttons div {\n",
              "      margin-bottom: 4px;\n",
              "    }\n",
              "\n",
              "    [theme=dark] .colab-df-convert {\n",
              "      background-color: #3B4455;\n",
              "      fill: #D2E3FC;\n",
              "    }\n",
              "\n",
              "    [theme=dark] .colab-df-convert:hover {\n",
              "      background-color: #434B5C;\n",
              "      box-shadow: 0px 1px 3px 1px rgba(0, 0, 0, 0.15);\n",
              "      filter: drop-shadow(0px 1px 2px rgba(0, 0, 0, 0.3));\n",
              "      fill: #FFFFFF;\n",
              "    }\n",
              "  </style>\n",
              "\n",
              "    <script>\n",
              "      const buttonEl =\n",
              "        document.querySelector('#df-ced2ab5e-2010-41dd-aa66-5174f7b2c030 button.colab-df-convert');\n",
              "      buttonEl.style.display =\n",
              "        google.colab.kernel.accessAllowed ? 'block' : 'none';\n",
              "\n",
              "      async function convertToInteractive(key) {\n",
              "        const element = document.querySelector('#df-ced2ab5e-2010-41dd-aa66-5174f7b2c030');\n",
              "        const dataTable =\n",
              "          await google.colab.kernel.invokeFunction('convertToInteractive',\n",
              "                                                    [key], {});\n",
              "        if (!dataTable) return;\n",
              "\n",
              "        const docLinkHtml = 'Like what you see? Visit the ' +\n",
              "          '<a target=\"_blank\" href=https://colab.research.google.com/notebooks/data_table.ipynb>data table notebook</a>'\n",
              "          + ' to learn more about interactive tables.';\n",
              "        element.innerHTML = '';\n",
              "        dataTable['output_type'] = 'display_data';\n",
              "        await google.colab.output.renderOutput(dataTable, element);\n",
              "        const docLink = document.createElement('div');\n",
              "        docLink.innerHTML = docLinkHtml;\n",
              "        element.appendChild(docLink);\n",
              "      }\n",
              "    </script>\n",
              "  </div>\n",
              "\n",
              "\n",
              "<div id=\"df-0303d4f1-e647-4549-ab87-af4cd3d98a66\">\n",
              "  <button class=\"colab-df-quickchart\" onclick=\"quickchart('df-0303d4f1-e647-4549-ab87-af4cd3d98a66')\"\n",
              "            title=\"Suggest charts\"\n",
              "            style=\"display:none;\">\n",
              "\n",
              "<svg xmlns=\"http://www.w3.org/2000/svg\" height=\"24px\"viewBox=\"0 0 24 24\"\n",
              "     width=\"24px\">\n",
              "    <g>\n",
              "        <path d=\"M19 3H5c-1.1 0-2 .9-2 2v14c0 1.1.9 2 2 2h14c1.1 0 2-.9 2-2V5c0-1.1-.9-2-2-2zM9 17H7v-7h2v7zm4 0h-2V7h2v10zm4 0h-2v-4h2v4z\"/>\n",
              "    </g>\n",
              "</svg>\n",
              "  </button>\n",
              "\n",
              "<style>\n",
              "  .colab-df-quickchart {\n",
              "      --bg-color: #E8F0FE;\n",
              "      --fill-color: #1967D2;\n",
              "      --hover-bg-color: #E2EBFA;\n",
              "      --hover-fill-color: #174EA6;\n",
              "      --disabled-fill-color: #AAA;\n",
              "      --disabled-bg-color: #DDD;\n",
              "  }\n",
              "\n",
              "  [theme=dark] .colab-df-quickchart {\n",
              "      --bg-color: #3B4455;\n",
              "      --fill-color: #D2E3FC;\n",
              "      --hover-bg-color: #434B5C;\n",
              "      --hover-fill-color: #FFFFFF;\n",
              "      --disabled-bg-color: #3B4455;\n",
              "      --disabled-fill-color: #666;\n",
              "  }\n",
              "\n",
              "  .colab-df-quickchart {\n",
              "    background-color: var(--bg-color);\n",
              "    border: none;\n",
              "    border-radius: 50%;\n",
              "    cursor: pointer;\n",
              "    display: none;\n",
              "    fill: var(--fill-color);\n",
              "    height: 32px;\n",
              "    padding: 0;\n",
              "    width: 32px;\n",
              "  }\n",
              "\n",
              "  .colab-df-quickchart:hover {\n",
              "    background-color: var(--hover-bg-color);\n",
              "    box-shadow: 0 1px 2px rgba(60, 64, 67, 0.3), 0 1px 3px 1px rgba(60, 64, 67, 0.15);\n",
              "    fill: var(--button-hover-fill-color);\n",
              "  }\n",
              "\n",
              "  .colab-df-quickchart-complete:disabled,\n",
              "  .colab-df-quickchart-complete:disabled:hover {\n",
              "    background-color: var(--disabled-bg-color);\n",
              "    fill: var(--disabled-fill-color);\n",
              "    box-shadow: none;\n",
              "  }\n",
              "\n",
              "  .colab-df-spinner {\n",
              "    border: 2px solid var(--fill-color);\n",
              "    border-color: transparent;\n",
              "    border-bottom-color: var(--fill-color);\n",
              "    animation:\n",
              "      spin 1s steps(1) infinite;\n",
              "  }\n",
              "\n",
              "  @keyframes spin {\n",
              "    0% {\n",
              "      border-color: transparent;\n",
              "      border-bottom-color: var(--fill-color);\n",
              "      border-left-color: var(--fill-color);\n",
              "    }\n",
              "    20% {\n",
              "      border-color: transparent;\n",
              "      border-left-color: var(--fill-color);\n",
              "      border-top-color: var(--fill-color);\n",
              "    }\n",
              "    30% {\n",
              "      border-color: transparent;\n",
              "      border-left-color: var(--fill-color);\n",
              "      border-top-color: var(--fill-color);\n",
              "      border-right-color: var(--fill-color);\n",
              "    }\n",
              "    40% {\n",
              "      border-color: transparent;\n",
              "      border-right-color: var(--fill-color);\n",
              "      border-top-color: var(--fill-color);\n",
              "    }\n",
              "    60% {\n",
              "      border-color: transparent;\n",
              "      border-right-color: var(--fill-color);\n",
              "    }\n",
              "    80% {\n",
              "      border-color: transparent;\n",
              "      border-right-color: var(--fill-color);\n",
              "      border-bottom-color: var(--fill-color);\n",
              "    }\n",
              "    90% {\n",
              "      border-color: transparent;\n",
              "      border-bottom-color: var(--fill-color);\n",
              "    }\n",
              "  }\n",
              "</style>\n",
              "\n",
              "  <script>\n",
              "    async function quickchart(key) {\n",
              "      const quickchartButtonEl =\n",
              "        document.querySelector('#' + key + ' button');\n",
              "      quickchartButtonEl.disabled = true;  // To prevent multiple clicks.\n",
              "      quickchartButtonEl.classList.add('colab-df-spinner');\n",
              "      try {\n",
              "        const charts = await google.colab.kernel.invokeFunction(\n",
              "            'suggestCharts', [key], {});\n",
              "      } catch (error) {\n",
              "        console.error('Error during call to suggestCharts:', error);\n",
              "      }\n",
              "      quickchartButtonEl.classList.remove('colab-df-spinner');\n",
              "      quickchartButtonEl.classList.add('colab-df-quickchart-complete');\n",
              "    }\n",
              "    (() => {\n",
              "      let quickchartButtonEl =\n",
              "        document.querySelector('#df-0303d4f1-e647-4549-ab87-af4cd3d98a66 button');\n",
              "      quickchartButtonEl.style.display =\n",
              "        google.colab.kernel.accessAllowed ? 'block' : 'none';\n",
              "    })();\n",
              "  </script>\n",
              "</div>\n",
              "\n",
              "    </div>\n",
              "  </div>\n"
            ],
            "application/vnd.google.colaboratory.intrinsic+json": {
              "type": "dataframe",
              "variable_name": "df"
            }
          },
          "metadata": {},
          "execution_count": 3
        }
      ]
    },
    {
      "cell_type": "code",
      "source": [
        "# removing unnecessary columns\n",
        "df.drop(['id', 'Unnamed: 32'], axis=1, inplace=True)"
      ],
      "metadata": {
        "id": "MOinm95fKuHw"
      },
      "execution_count": 4,
      "outputs": []
    },
    {
      "cell_type": "code",
      "source": [
        "# train test split\n",
        "X = df.drop('diagnosis', axis=1)\n",
        "y = df['diagnosis']\n",
        "X_train, X_test, y_train, y_test = train_test_split(X, y, test_size=0.2, random_state=101)"
      ],
      "metadata": {
        "id": "kcSMX00fKwxX"
      },
      "execution_count": 5,
      "outputs": []
    },
    {
      "cell_type": "code",
      "source": [
        "print(X_train.shape)\n",
        "print(X_test.shape)\n",
        "print(y_train.shape)\n",
        "print(y_test.shape)"
      ],
      "metadata": {
        "colab": {
          "base_uri": "https://localhost:8080/"
        },
        "id": "iMb-qy0WK03o",
        "outputId": "712a2fee-a6cf-4920-fbb9-c192ef71b9c0"
      },
      "execution_count": 6,
      "outputs": [
        {
          "output_type": "stream",
          "name": "stdout",
          "text": [
            "(455, 30)\n",
            "(114, 30)\n",
            "(455,)\n",
            "(114,)\n"
          ]
        }
      ]
    },
    {
      "cell_type": "code",
      "source": [
        "# Scalling\n",
        "scaler = StandardScaler()\n",
        "X_train = scaler.fit_transform(X_train)\n",
        "X_test = scaler.transform(X_test)"
      ],
      "metadata": {
        "id": "9UCpiqR1K1WK"
      },
      "execution_count": 7,
      "outputs": []
    },
    {
      "cell_type": "code",
      "source": [
        "# scaling factors\n",
        "print(\"Means:\", scaler.mean_)  # Mean of each column\n",
        "print(\"Standard Deviations:\", scaler.scale_)"
      ],
      "metadata": {
        "colab": {
          "base_uri": "https://localhost:8080/"
        },
        "id": "KGYIWthBK3pF",
        "outputId": "c8135727-1593-4f2b-d518-cca31ce71722"
      },
      "execution_count": 8,
      "outputs": [
        {
          "output_type": "stream",
          "name": "stdout",
          "text": [
            "Means: [1.41242879e+01 1.93075604e+01 9.19396703e+01 6.56671429e+02\n",
            " 9.63678681e-02 1.04421538e-01 8.91330895e-02 4.88284242e-02\n",
            " 1.81880440e-01 6.29729011e-02 4.01258022e-01 1.21594813e+00\n",
            " 2.82998967e+00 4.02369121e+01 6.97023297e-03 2.53466484e-02\n",
            " 3.20967684e-02 1.16982505e-02 2.03582593e-02 3.78691055e-03\n",
            " 1.62633495e+01 2.57886154e+01 1.07198791e+02 8.83610110e+02\n",
            " 1.32334022e-01 2.55078505e-01 2.73968246e-01 1.15016442e-01\n",
            " 2.91142857e-01 8.44703736e-02]\n",
            "Standard Deviations: [3.62225359e+00 4.27993499e+00 2.48947679e+01 3.63480250e+02\n",
            " 1.41342510e-02 5.22528208e-02 8.03982305e-02 3.88980010e-02\n",
            " 2.76230170e-02 7.20564635e-03 2.85064897e-01 5.48878225e-01\n",
            " 2.05144684e+00 4.81209261e+01 2.91838330e-03 1.77698849e-02\n",
            " 3.15201184e-02 5.99222487e-03 8.33049058e-03 2.60496267e-03\n",
            " 4.95037665e+00 6.15500551e+00 3.42256559e+01 5.87464840e+02\n",
            " 2.23921729e-02 1.54854811e-01 2.10139639e-01 6.57771234e-02\n",
            " 6.29427445e-02 1.82444544e-02]\n"
          ]
        }
      ]
    },
    {
      "cell_type": "code",
      "source": [
        "# converting labels into numbers using Label encoding\n",
        "le = LabelEncoder()\n",
        "y_train = le.fit_transform(y_train)\n",
        "y_test = le.transform(y_test)"
      ],
      "metadata": {
        "id": "TtNB05AjK5sX"
      },
      "execution_count": 9,
      "outputs": []
    },
    {
      "cell_type": "code",
      "source": [
        "# converting numpy arrays into pytorch tensors\n",
        "X_train_tensor = torch.from_numpy(X_train)\n",
        "X_test_tensor = torch.from_numpy(X_test)\n",
        "y_train_tensor = torch.from_numpy(y_train)\n",
        "y_test_tensor = torch.from_numpy(y_test)"
      ],
      "metadata": {
        "id": "bJHFNRcyK874"
      },
      "execution_count": 10,
      "outputs": []
    },
    {
      "cell_type": "code",
      "source": [
        "(X_train_tensor[0]).dtype"
      ],
      "metadata": {
        "colab": {
          "base_uri": "https://localhost:8080/"
        },
        "id": "OkZgmcsMLD_3",
        "outputId": "224f5193-4133-4dbe-ce98-92f1b2c93d5f"
      },
      "execution_count": 11,
      "outputs": [
        {
          "output_type": "execute_result",
          "data": {
            "text/plain": [
              "torch.float64"
            ]
          },
          "metadata": {},
          "execution_count": 11
        }
      ]
    },
    {
      "cell_type": "markdown",
      "source": [
        "**Training Process**"
      ],
      "metadata": {
        "id": "wpcbMk9HLDP8"
      }
    },
    {
      "cell_type": "code",
      "source": [
        "class mydnn(nn.Module):\n",
        "  def __init__(self, num_features):\n",
        "    super().__init__()\n",
        "    self.linear = nn.Linear(num_features,1)\n",
        "    self.sigmoid = nn.Sigmoid()\n",
        "\n",
        "  def forward(self,X):\n",
        "    X = self.linear(X)\n",
        "    X = self.sigmoid(X)\n",
        "    return X\n",
        "\n",
        "  def lossFun(self, y_pred, y_true):\n",
        "    # loss = nn.BCELoss()(y_pred, y_true) , we can write like this\n",
        "    bceloss = nn.BCELoss()\n",
        "    loss = bceloss(y_pred, y_true)\n",
        "    return loss\n"
      ],
      "metadata": {
        "id": "w7Wbbx4gK_AL"
      },
      "execution_count": 40,
      "outputs": []
    },
    {
      "cell_type": "code",
      "source": [
        "# defining parameters\n",
        "learning_rate = 0.1\n",
        "epochs = 30\n",
        "\n",
        "# creating Model\n",
        "model = mydnn(X_train_tensor.shape[1])\n",
        "\n",
        "# defining optimizer\n",
        "optimizer = torch.optim.SGD(model.parameters(), lr=learning_rate)\n",
        "\n",
        "# training loop\n",
        "for epoch in range(epochs):\n",
        "  # forward pass\n",
        "  y_pred = model(X_train_tensor.float())\n",
        "\n",
        "  # calculating loss\n",
        "  loss = model.lossFun(y_pred,y_train_tensor.reshape(-1,1).float())\n",
        "\n",
        "  # backward pass\n",
        "  loss.backward()\n",
        "\n",
        "  # updating weights and bais\n",
        "  optimizer.step()\n",
        "\n",
        "  # making gradient zero\n",
        "  optimizer.zero_grad()\n",
        "\n",
        "  # printing loss for each epoch\n",
        "  print(f\"Epoch: {epoch+1}, Loss: {loss.item()}\")"
      ],
      "metadata": {
        "colab": {
          "base_uri": "https://localhost:8080/"
        },
        "id": "VEados7pP3PG",
        "outputId": "81dc00a6-7ce0-4536-cdcf-c47079562b3f"
      },
      "execution_count": 41,
      "outputs": [
        {
          "output_type": "stream",
          "name": "stdout",
          "text": [
            "Epoch: 1, Loss: 0.6737694144248962\n",
            "Epoch: 2, Loss: 0.5422763228416443\n",
            "Epoch: 3, Loss: 0.46575891971588135\n",
            "Epoch: 4, Loss: 0.4148052930831909\n",
            "Epoch: 5, Loss: 0.37770190834999084\n",
            "Epoch: 6, Loss: 0.3491092622280121\n",
            "Epoch: 7, Loss: 0.3262033462524414\n",
            "Epoch: 8, Loss: 0.3073263168334961\n",
            "Epoch: 9, Loss: 0.29142969846725464\n",
            "Epoch: 10, Loss: 0.27781206369400024\n",
            "Epoch: 11, Loss: 0.2659837603569031\n",
            "Epoch: 12, Loss: 0.25559085607528687\n",
            "Epoch: 13, Loss: 0.24637027084827423\n",
            "Epoch: 14, Loss: 0.23812200129032135\n",
            "Epoch: 15, Loss: 0.23069070279598236\n",
            "Epoch: 16, Loss: 0.22395385801792145\n",
            "Epoch: 17, Loss: 0.21781326830387115\n",
            "Epoch: 18, Loss: 0.2121891975402832\n",
            "Epoch: 19, Loss: 0.2070162296295166\n",
            "Epoch: 20, Loss: 0.2022399753332138\n",
            "Epoch: 21, Loss: 0.19781485199928284\n",
            "Epoch: 22, Loss: 0.1937023401260376\n",
            "Epoch: 23, Loss: 0.18986956775188446\n",
            "Epoch: 24, Loss: 0.18628822267055511\n",
            "Epoch: 25, Loss: 0.18293388187885284\n",
            "Epoch: 26, Loss: 0.17978525161743164\n",
            "Epoch: 27, Loss: 0.17682361602783203\n",
            "Epoch: 28, Loss: 0.17403249442577362\n",
            "Epoch: 29, Loss: 0.1713973432779312\n",
            "Epoch: 30, Loss: 0.16890524327754974\n"
          ]
        }
      ]
    },
    {
      "cell_type": "code",
      "source": [
        "model.linear.weight"
      ],
      "metadata": {
        "colab": {
          "base_uri": "https://localhost:8080/"
        },
        "id": "xrRVZAQ0QqVY",
        "outputId": "9e21b80b-bbe0-4c6c-dd28-b4fa75c00bcb"
      },
      "execution_count": 42,
      "outputs": [
        {
          "output_type": "execute_result",
          "data": {
            "text/plain": [
              "Parameter containing:\n",
              "tensor([[ 0.1042,  0.1055,  0.2894,  0.3424, -0.0013,  0.1103,  0.1101,  0.2981,\n",
              "          0.1329, -0.0713,  0.3168,  0.1365,  0.0573,  0.0186, -0.1701,  0.0339,\n",
              "          0.0558, -0.0864,  0.0781,  0.0107,  0.4608,  0.1743,  0.3928,  0.2952,\n",
              "          0.2334,  0.2130,  0.1547,  0.3122,  0.0478,  0.1059]],\n",
              "       requires_grad=True)"
            ]
          },
          "metadata": {},
          "execution_count": 42
        }
      ]
    },
    {
      "cell_type": "code",
      "source": [
        "model.linear.bias"
      ],
      "metadata": {
        "colab": {
          "base_uri": "https://localhost:8080/"
        },
        "id": "i1LQ-pFCn6Hs",
        "outputId": "d17d3fc2-45dd-4177-b7e2-414ed7467807"
      },
      "execution_count": 43,
      "outputs": [
        {
          "output_type": "execute_result",
          "data": {
            "text/plain": [
              "Parameter containing:\n",
              "tensor([-0.1633], requires_grad=True)"
            ]
          },
          "metadata": {},
          "execution_count": 43
        }
      ]
    },
    {
      "cell_type": "code",
      "source": [
        "# model evaluation\n",
        "\n",
        "with torch.no_grad():\n",
        "  y_pred = model.forward(X_test_tensor.float())\n",
        "  y_pred = (y_pred > 0.7).float()\n",
        "  accuracy = (y_pred == y_test_tensor).float().mean()\n",
        "  print(f\"Accuracy: {accuracy}\")"
      ],
      "metadata": {
        "colab": {
          "base_uri": "https://localhost:8080/"
        },
        "id": "HrLCuFHVn7VZ",
        "outputId": "2b15ba9e-3a14-4059-93df-6e55949978d6"
      },
      "execution_count": 44,
      "outputs": [
        {
          "output_type": "stream",
          "name": "stdout",
          "text": [
            "Accuracy: 0.5507848858833313\n"
          ]
        }
      ]
    }
  ]
}