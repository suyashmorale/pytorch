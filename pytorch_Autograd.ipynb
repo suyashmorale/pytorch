{
  "nbformat": 4,
  "nbformat_minor": 0,
  "metadata": {
    "colab": {
      "provenance": []
    },
    "kernelspec": {
      "name": "python3",
      "display_name": "Python 3"
    },
    "language_info": {
      "name": "python"
    }
  },
  "cells": [
    {
      "cell_type": "markdown",
      "source": [
        "**Autograd is a core component of PyTorch that provides automatic differentiation for tensor operations. It enables gradient computation, which is essential for training machine learning models using optimization algorithms like gradient descent**"
      ],
      "metadata": {
        "id": "oZpbo4cvFdIy"
      }
    },
    {
      "cell_type": "markdown",
      "source": [
        "# Gradient Without using Autograd"
      ],
      "metadata": {
        "id": "aP6UbiXSRPF8"
      }
    },
    {
      "cell_type": "markdown",
      "source": [
        "e.g. 1\n",
        "\n",
        "x = 3.5 <br>\n",
        "y = x**2\n",
        "\n",
        "find gradient of y w.r.t x <br>\n",
        "that is dy/dx"
      ],
      "metadata": {
        "id": "YboQTwWsRZVx"
      }
    },
    {
      "cell_type": "code",
      "execution_count": null,
      "metadata": {
        "colab": {
          "base_uri": "https://localhost:8080/"
        },
        "id": "LXoqBEuaD7nH",
        "outputId": "2b3907da-aca6-4288-c7e8-c59ce416ac92"
      },
      "outputs": [
        {
          "output_type": "execute_result",
          "data": {
            "text/plain": [
              "7.0"
            ]
          },
          "metadata": {},
          "execution_count": 1
        }
      ],
      "source": [
        "# function to calculate dy/dx\n",
        "def dy_dx(x):\n",
        "    return 2*x\n",
        "\n",
        "dy_dx(3.5) # dy/dx at x = 3.5"
      ]
    },
    {
      "cell_type": "markdown",
      "source": [
        "e.g. 2 <br>\n",
        "\n",
        "x = 3.2  <br>\n",
        "y = x**3 <br>\n",
        "z = y + 4 <br>\n",
        "find dz/dx ?"
      ],
      "metadata": {
        "id": "IshYZmlmWN5i"
      }
    },
    {
      "cell_type": "code",
      "source": [
        "\"\"\"\n",
        "dz/dx = dz/dy * dy/dx\n",
        "      = 1 * 3 * x**2\n",
        "      = 3 * x**2\n",
        "\"\"\"\n",
        "\n",
        "def dz_dx(x):\n",
        "    return 3 * x**2\n",
        "\n",
        "dz_dx(3.2) # dz/dx at x = 3.2"
      ],
      "metadata": {
        "colab": {
          "base_uri": "https://localhost:8080/"
        },
        "id": "TnYKzhGeWD-h",
        "outputId": "ef723820-d07d-4b25-8fcc-31a8bc4f9bf4"
      },
      "execution_count": null,
      "outputs": [
        {
          "output_type": "execute_result",
          "data": {
            "text/plain": [
              "30.720000000000006"
            ]
          },
          "metadata": {},
          "execution_count": 2
        }
      ]
    },
    {
      "cell_type": "markdown",
      "source": [
        "**as we can see if we use more complex funciton in funciton according to chain rule equation will get bigger and bigger which is hard to calculate manually, thats why we use Autograd**"
      ],
      "metadata": {
        "id": "B7RSfXljXNca"
      }
    },
    {
      "cell_type": "markdown",
      "source": [
        "# Gradients using Autograd"
      ],
      "metadata": {
        "id": "IC5LMtQQXvdK"
      }
    },
    {
      "cell_type": "markdown",
      "source": [
        "**Conceptually, autograd keeps a record of data (tensors) and all executed operations (along with the resulting new tensors) in a directed acyclic graph (DAG) consisting of Function objects. In this DAG, leaves are the input tensors, roots are the output tensors. By tracing this graph from roots to leaves, you can automatically compute the gradients using the chain rule.**"
      ],
      "metadata": {
        "id": "eQ8e9RWwg6Ye"
      }
    },
    {
      "cell_type": "code",
      "source": [
        "import torch"
      ],
      "metadata": {
        "id": "m82gUOpeYDT8"
      },
      "execution_count": null,
      "outputs": []
    },
    {
      "cell_type": "code",
      "source": [
        "# solving e.g. 1\n",
        "\n",
        "x = torch.tensor(3.5,requires_grad=True)\n",
        "y = x ** 2"
      ],
      "metadata": {
        "id": "VZdY4c3jXK1y"
      },
      "execution_count": null,
      "outputs": []
    },
    {
      "cell_type": "code",
      "source": [
        "x"
      ],
      "metadata": {
        "colab": {
          "base_uri": "https://localhost:8080/"
        },
        "id": "gNv-gbL6YPpT",
        "outputId": "b48234df-7357-40dc-9932-0d881ce73604"
      },
      "execution_count": null,
      "outputs": [
        {
          "output_type": "execute_result",
          "data": {
            "text/plain": [
              "tensor(3.5000, requires_grad=True)"
            ]
          },
          "metadata": {},
          "execution_count": 8
        }
      ]
    },
    {
      "cell_type": "code",
      "source": [
        "y"
      ],
      "metadata": {
        "colab": {
          "base_uri": "https://localhost:8080/"
        },
        "id": "c05cPDJhY5Xe",
        "outputId": "289c4ff7-2781-4dae-9859-505bf5555b08"
      },
      "execution_count": null,
      "outputs": [
        {
          "output_type": "execute_result",
          "data": {
            "text/plain": [
              "tensor(12.2500, grad_fn=<PowBackward0>)"
            ]
          },
          "metadata": {},
          "execution_count": 9
        }
      ]
    },
    {
      "cell_type": "code",
      "source": [
        "# finding gradient of y w.r.t x\n",
        "y.backward()\n",
        "\n",
        "x.grad"
      ],
      "metadata": {
        "colab": {
          "base_uri": "https://localhost:8080/"
        },
        "id": "Ridd6b-aYXyF",
        "outputId": "09ee730c-3a9b-49c4-c22d-0658969636a8"
      },
      "execution_count": null,
      "outputs": [
        {
          "output_type": "execute_result",
          "data": {
            "text/plain": [
              "tensor(7.)"
            ]
          },
          "metadata": {},
          "execution_count": 7
        }
      ]
    },
    {
      "cell_type": "code",
      "source": [
        "# solving e.g. 2\n",
        "\n",
        "x = torch.tensor(3.2,requires_grad=True)\n",
        "y = x ** 3\n",
        "z = y + 4"
      ],
      "metadata": {
        "id": "YXEN74JjYj2N"
      },
      "execution_count": null,
      "outputs": []
    },
    {
      "cell_type": "code",
      "source": [
        "x"
      ],
      "metadata": {
        "colab": {
          "base_uri": "https://localhost:8080/"
        },
        "id": "vw1RlVBNZKJk",
        "outputId": "1e9c2428-ebaa-4aea-f08f-0f6f3a463998"
      },
      "execution_count": null,
      "outputs": [
        {
          "output_type": "execute_result",
          "data": {
            "text/plain": [
              "tensor(3.2000, requires_grad=True)"
            ]
          },
          "metadata": {},
          "execution_count": 11
        }
      ]
    },
    {
      "cell_type": "code",
      "source": [
        "y"
      ],
      "metadata": {
        "colab": {
          "base_uri": "https://localhost:8080/"
        },
        "id": "5TxzIHDxZLVP",
        "outputId": "ed324fcf-b2ac-4485-dae4-6f6f2ec05610"
      },
      "execution_count": null,
      "outputs": [
        {
          "output_type": "execute_result",
          "data": {
            "text/plain": [
              "tensor(32.7680, grad_fn=<PowBackward0>)"
            ]
          },
          "metadata": {},
          "execution_count": 12
        }
      ]
    },
    {
      "cell_type": "code",
      "source": [
        "z"
      ],
      "metadata": {
        "colab": {
          "base_uri": "https://localhost:8080/"
        },
        "id": "qCbRqgg-ZMN9",
        "outputId": "1137f6d4-5b1d-45ef-db52-e8f2b9586de7"
      },
      "execution_count": null,
      "outputs": [
        {
          "output_type": "execute_result",
          "data": {
            "text/plain": [
              "tensor(36.7680, grad_fn=<AddBackward0>)"
            ]
          },
          "metadata": {},
          "execution_count": 13
        }
      ]
    },
    {
      "cell_type": "code",
      "source": [
        "# finding gradient of z w.r.t x\n",
        "z.backward()\n",
        "x.grad"
      ],
      "metadata": {
        "colab": {
          "base_uri": "https://localhost:8080/"
        },
        "id": "xBc-ypKoZPXd",
        "outputId": "a97fcb6a-64f2-4ce9-d22d-f50fb056aa06"
      },
      "execution_count": null,
      "outputs": [
        {
          "output_type": "execute_result",
          "data": {
            "text/plain": [
              "tensor(30.7200)"
            ]
          },
          "metadata": {},
          "execution_count": 14
        }
      ]
    },
    {
      "cell_type": "code",
      "source": [
        "# e.g. 3\n",
        "\n",
        "x = torch.tensor(2.0,requires_grad=True)\n",
        "y = 4*x**2 + 3*x + 2\n",
        "z = torch.sin(y)"
      ],
      "metadata": {
        "id": "3GSt0072ZVzZ"
      },
      "execution_count": null,
      "outputs": []
    },
    {
      "cell_type": "code",
      "source": [
        "# finding dz/dx\n",
        "z.backward()\n",
        "x.grad"
      ],
      "metadata": {
        "colab": {
          "base_uri": "https://localhost:8080/"
        },
        "id": "QllNnJHQZx1r",
        "outputId": "989a1aa1-5c0b-42a8-df0a-2090787c878c"
      },
      "execution_count": null,
      "outputs": [
        {
          "output_type": "execute_result",
          "data": {
            "text/plain": [
              "tensor(8.0594)"
            ]
          },
          "metadata": {},
          "execution_count": 17
        }
      ]
    },
    {
      "cell_type": "code",
      "source": [
        "# finding gradient without Autograd\n",
        "\"\"\"\n",
        "dz/dx = dz/dy * dy/dx\n",
        "\"\"\"\n",
        "def dz_dx(x):\n",
        "    return torch.cos(4*x**2 + 3*x + 2) * (8*x + 3)\n",
        "\n",
        "dz_dx(x)"
      ],
      "metadata": {
        "colab": {
          "base_uri": "https://localhost:8080/"
        },
        "id": "UQaeE-YLdbJv",
        "outputId": "5f0a39ee-a256-4fa3-9edc-6b205eb0820a"
      },
      "execution_count": null,
      "outputs": [
        {
          "output_type": "execute_result",
          "data": {
            "text/plain": [
              "tensor(8.0594, grad_fn=<MulBackward0>)"
            ]
          },
          "metadata": {},
          "execution_count": 19
        }
      ]
    },
    {
      "cell_type": "code",
      "source": [
        "\"\"\"\n",
        "bydefault gradient is not calculated on intermidiate nodes, only on leaf nodes\n",
        "gradients are calculated\n",
        "\"\"\"\n",
        "y.grad"
      ],
      "metadata": {
        "colab": {
          "base_uri": "https://localhost:8080/"
        },
        "id": "I7E6OHlRfGSR",
        "outputId": "f32dcc43-1a06-4ceb-9039-dedcf5d353ab"
      },
      "execution_count": null,
      "outputs": [
        {
          "output_type": "stream",
          "name": "stderr",
          "text": [
            "<ipython-input-20-10b3a7061f6d>:1: UserWarning: The .grad attribute of a Tensor that is not a leaf Tensor is being accessed. Its .grad attribute won't be populated during autograd.backward(). If you indeed want the .grad field to be populated for a non-leaf Tensor, use .retain_grad() on the non-leaf Tensor. If you access the non-leaf Tensor by mistake, make sure you access the leaf Tensor instead. See github.com/pytorch/pytorch/pull/30531 for more informations. (Triggered internally at aten/src/ATen/core/TensorBody.h:489.)\n",
            "  y.grad\n"
          ]
        }
      ]
    },
    {
      "cell_type": "code",
      "source": [
        "# simple nural netwwork example\n",
        "\n",
        "x = torch.ones(5)  # input tensor\n",
        "y = torch.zeros(3)  # expected output\n",
        "w = torch.randn(5, 3, requires_grad=True) # weights\n",
        "b = torch.randn(3, requires_grad=True)    # baises"
      ],
      "metadata": {
        "id": "EYJPpadgfNQw"
      },
      "execution_count": null,
      "outputs": []
    },
    {
      "cell_type": "code",
      "source": [
        "w"
      ],
      "metadata": {
        "colab": {
          "base_uri": "https://localhost:8080/"
        },
        "id": "ORmNgk7AzMQO",
        "outputId": "d7a8ab96-28aa-4580-87ae-17d5387f1049"
      },
      "execution_count": null,
      "outputs": [
        {
          "output_type": "execute_result",
          "data": {
            "text/plain": [
              "tensor([[ 2.0332, -2.0101,  0.9197],\n",
              "        [ 1.8458,  2.0124,  1.8019],\n",
              "        [ 0.8441,  0.5051, -0.7897],\n",
              "        [ 1.3931, -0.2252, -0.8167],\n",
              "        [-0.1840, -0.2139,  1.0697]], requires_grad=True)"
            ]
          },
          "metadata": {},
          "execution_count": 78
        }
      ]
    },
    {
      "cell_type": "code",
      "source": [
        "b"
      ],
      "metadata": {
        "colab": {
          "base_uri": "https://localhost:8080/"
        },
        "id": "H5pOCAG66UDu",
        "outputId": "5bfb1c1d-6a6d-4a4e-8930-a0e19ff848b4"
      },
      "execution_count": null,
      "outputs": [
        {
          "output_type": "execute_result",
          "data": {
            "text/plain": [
              "tensor([ 1.0052,  2.2432, -0.1055], requires_grad=True)"
            ]
          },
          "metadata": {},
          "execution_count": 79
        }
      ]
    },
    {
      "cell_type": "code",
      "source": [
        "# function for calculating binarycross entropy loss\n",
        "def binary_cross_entropy_loss(y_pred, y_true):\n",
        "  pred = torch.clamp(y_pred, min=1e-8, max=1-1e-8)\n",
        "  return -(y_true * torch.log(pred) + (1 - y_true) * torch.log(1 - pred))"
      ],
      "metadata": {
        "id": "HlByvndW0KEm"
      },
      "execution_count": null,
      "outputs": []
    },
    {
      "cell_type": "code",
      "source": [
        "# forward pass\n",
        "z = torch.matmul(x, w)+b\n",
        "y_pred = torch.sigmoid(z)\n",
        "\n",
        "# computing loss\n",
        "loss = binary_cross_entropy_loss(y_pred, y).mean()\n",
        "# if we use following loss function, then no need to use sigmoid , it will do it\n",
        "# internaly, and use mean as reduction parameter is used by default\n",
        "# loss = torch.nn.functional.binary_cross_entropy_with_logits(y_pred, y)"
      ],
      "metadata": {
        "id": "8sUZ81rwwsKn"
      },
      "execution_count": null,
      "outputs": []
    },
    {
      "cell_type": "markdown",
      "source": [
        "![Screenshot 2024-12-01 234045.png](data:image/png;base64,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)"
      ],
      "metadata": {
        "id": "Kb50CmCybNwP"
      }
    },
    {
      "cell_type": "code",
      "source": [
        "x"
      ],
      "metadata": {
        "colab": {
          "base_uri": "https://localhost:8080/"
        },
        "id": "jExBSCzFaRrO",
        "outputId": "44c36514-50e9-49c5-d4ea-101b07219fe8"
      },
      "execution_count": null,
      "outputs": [
        {
          "output_type": "execute_result",
          "data": {
            "text/plain": [
              "tensor([1., 1., 1., 1., 1.])"
            ]
          },
          "metadata": {},
          "execution_count": 71
        }
      ]
    },
    {
      "cell_type": "code",
      "source": [
        "y"
      ],
      "metadata": {
        "colab": {
          "base_uri": "https://localhost:8080/"
        },
        "id": "MUJLQNRtaTF4",
        "outputId": "3de20e42-f11d-435f-c635-157201864240"
      },
      "execution_count": null,
      "outputs": [
        {
          "output_type": "execute_result",
          "data": {
            "text/plain": [
              "tensor([0., 0., 0.])"
            ]
          },
          "metadata": {},
          "execution_count": 72
        }
      ]
    },
    {
      "cell_type": "code",
      "source": [
        "z"
      ],
      "metadata": {
        "colab": {
          "base_uri": "https://localhost:8080/"
        },
        "id": "B0cVwfVGYgeT",
        "outputId": "e0dc6a94-15fa-4685-f816-b9af99fff534"
      },
      "execution_count": null,
      "outputs": [
        {
          "output_type": "execute_result",
          "data": {
            "text/plain": [
              "tensor([6.9374, 2.3115, 2.0795], grad_fn=<AddBackward0>)"
            ]
          },
          "metadata": {},
          "execution_count": 73
        }
      ]
    },
    {
      "cell_type": "code",
      "source": [
        "y_pred"
      ],
      "metadata": {
        "colab": {
          "base_uri": "https://localhost:8080/"
        },
        "id": "jjD3QfCHZWEH",
        "outputId": "83b437f5-9475-4272-8884-cf89f300f4c5"
      },
      "execution_count": null,
      "outputs": [
        {
          "output_type": "execute_result",
          "data": {
            "text/plain": [
              "tensor([0.9990, 0.9098, 0.8889], grad_fn=<SigmoidBackward0>)"
            ]
          },
          "metadata": {},
          "execution_count": 74
        }
      ]
    },
    {
      "cell_type": "code",
      "source": [
        "loss"
      ],
      "metadata": {
        "colab": {
          "base_uri": "https://localhost:8080/"
        },
        "id": "prNQ3gQdcqHp",
        "outputId": "11000418-420f-4d72-fcb9-3ad6c7101bd7"
      },
      "execution_count": null,
      "outputs": [
        {
          "output_type": "execute_result",
          "data": {
            "text/plain": [
              "tensor(3.8472, grad_fn=<MeanBackward0>)"
            ]
          },
          "metadata": {},
          "execution_count": 75
        }
      ]
    },
    {
      "cell_type": "code",
      "source": [
        "loss"
      ],
      "metadata": {
        "colab": {
          "base_uri": "https://localhost:8080/"
        },
        "id": "uhjtl9KRaN14",
        "outputId": "7fb6e668-7e2c-4c2f-e68c-2e77b368f0c8"
      },
      "execution_count": null,
      "outputs": [
        {
          "output_type": "execute_result",
          "data": {
            "text/plain": [
              "tensor([0.0662, 1.3207, 0.4835], grad_fn=<NegBackward0>)"
            ]
          },
          "metadata": {},
          "execution_count": 62
        }
      ]
    },
    {
      "cell_type": "code",
      "source": [
        "\"\"\"\n",
        "To optimize weights of parameters in the neural network, we need to compute the\n",
        "derivatives of our loss function with respect to parameters (W and b)\n",
        "\"\"\"\n",
        "\n",
        "# backpropogation\n",
        "loss.backward()"
      ],
      "metadata": {
        "id": "uz4QJsQRaXzk"
      },
      "execution_count": null,
      "outputs": []
    },
    {
      "cell_type": "code",
      "source": [
        "print(w.grad)\n",
        "print(b.grad)"
      ],
      "metadata": {
        "colab": {
          "base_uri": "https://localhost:8080/"
        },
        "id": "stX2b0ChbxE_",
        "outputId": "11ff845d-cefb-401a-b743-06062616b308"
      },
      "execution_count": null,
      "outputs": [
        {
          "output_type": "stream",
          "name": "stdout",
          "text": [
            "tensor([[0.3330, 0.3033, 0.2963],\n",
            "        [0.3330, 0.3033, 0.2963],\n",
            "        [0.3330, 0.3033, 0.2963],\n",
            "        [0.3330, 0.3033, 0.2963],\n",
            "        [0.3330, 0.3033, 0.2963]])\n",
            "tensor([0.3330, 0.3033, 0.2963])\n"
          ]
        }
      ]
    },
    {
      "cell_type": "markdown",
      "source": [
        "## clearning gradient"
      ],
      "metadata": {
        "id": "XlEL1RPh6tpY"
      }
    },
    {
      "cell_type": "code",
      "source": [
        "q1 = torch.tensor(2.5, requires_grad=True)\n",
        "print(q1)"
      ],
      "metadata": {
        "colab": {
          "base_uri": "https://localhost:8080/"
        },
        "id": "IvI0fNnCiktT",
        "outputId": "6a162031-e416-4e7d-ee56-66319908a265"
      },
      "execution_count": null,
      "outputs": [
        {
          "output_type": "stream",
          "name": "stdout",
          "text": [
            "tensor(2.5000, requires_grad=True)\n"
          ]
        }
      ]
    },
    {
      "cell_type": "code",
      "source": [
        "# forward pass\n",
        "q2 = q1**2\n",
        "print(q2)"
      ],
      "metadata": {
        "colab": {
          "base_uri": "https://localhost:8080/"
        },
        "id": "cuBGbMiJ7DYw",
        "outputId": "4d632720-0b89-4f86-d00e-54139577d2eb"
      },
      "execution_count": null,
      "outputs": [
        {
          "output_type": "stream",
          "name": "stdout",
          "text": [
            "tensor(6.2500, grad_fn=<PowBackward0>)\n"
          ]
        }
      ]
    },
    {
      "cell_type": "code",
      "source": [
        "# backward pass\n",
        "q2.backward()"
      ],
      "metadata": {
        "id": "_aPclnTT7OXi"
      },
      "execution_count": null,
      "outputs": []
    },
    {
      "cell_type": "code",
      "source": [
        "\"\"\"\n",
        "when you run forward pass and backward pass only 2nd time then gradient\n",
        "result will get add up each time you run forwardpass and backwardpass,\n",
        "gradient not get cleared itself, we have to do it manually.\n",
        "\"\"\"\n",
        "\n",
        "\n",
        "print(q1.grad)"
      ],
      "metadata": {
        "colab": {
          "base_uri": "https://localhost:8080/"
        },
        "id": "Fyi_L1bU7VSo",
        "outputId": "cf9cb932-7dbc-4510-c60e-0c98097f51c6"
      },
      "execution_count": null,
      "outputs": [
        {
          "output_type": "stream",
          "name": "stdout",
          "text": [
            "tensor(5.)\n"
          ]
        }
      ]
    },
    {
      "cell_type": "code",
      "source": [
        "q1.grad.zero_() # we are making q1.grad tensor 0\n",
        "print(q1.grad)"
      ],
      "metadata": {
        "id": "SxnE4G_W-JBY",
        "colab": {
          "base_uri": "https://localhost:8080/"
        },
        "outputId": "82c19a2e-9c99-4790-9e11-7966d88f94de"
      },
      "execution_count": null,
      "outputs": [
        {
          "output_type": "stream",
          "name": "stdout",
          "text": [
            "tensor(0.)\n"
          ]
        }
      ]
    },
    {
      "cell_type": "markdown",
      "source": [
        "## Disabling  gradinent tracking"
      ],
      "metadata": {
        "id": "p-yQUdYN4Uvh"
      }
    },
    {
      "cell_type": "markdown",
      "source": [
        "while training you do backword pass that time you need gradient tracking, but while testing you don't backpropogate that time you can disable the gradient tracking on your tensors"
      ],
      "metadata": {
        "id": "ep41g_0m4thl"
      }
    },
    {
      "cell_type": "code",
      "source": [
        "# forward pass\n",
        "x = torch.tensor(3.7,requires_grad=True)\n",
        "y = 3*(x**2) + 2*x\n",
        "print(y)"
      ],
      "metadata": {
        "colab": {
          "base_uri": "https://localhost:8080/"
        },
        "id": "_YWy_2fw4Dpj",
        "outputId": "ab6ab2ce-e292-4b41-b511-e7f6f67b98ab"
      },
      "execution_count": null,
      "outputs": [
        {
          "output_type": "stream",
          "name": "stdout",
          "text": [
            "tensor(48.4700, grad_fn=<AddBackward0>)\n"
          ]
        }
      ]
    },
    {
      "cell_type": "code",
      "source": [
        "# backward pass\n",
        "y.backward()"
      ],
      "metadata": {
        "id": "nRaL1ktk6DdY"
      },
      "execution_count": null,
      "outputs": []
    },
    {
      "cell_type": "code",
      "source": [
        "print(x.grad)"
      ],
      "metadata": {
        "colab": {
          "base_uri": "https://localhost:8080/"
        },
        "id": "4HLcX5GJ6GOI",
        "outputId": "3d906622-7d40-4655-e4ea-ab529244e661"
      },
      "execution_count": null,
      "outputs": [
        {
          "output_type": "stream",
          "name": "stdout",
          "text": [
            "tensor(24.2000)\n"
          ]
        }
      ]
    },
    {
      "cell_type": "code",
      "source": [
        "# clearing gradient\n",
        "x.grad.zero_()\n",
        "print(x.grad)"
      ],
      "metadata": {
        "colab": {
          "base_uri": "https://localhost:8080/"
        },
        "id": "eK_asvhQ6OoG",
        "outputId": "d36c56fe-55eb-41ac-b791-8ab6d790b707"
      },
      "execution_count": null,
      "outputs": [
        {
          "output_type": "stream",
          "name": "stdout",
          "text": [
            "tensor(0.)\n"
          ]
        }
      ]
    },
    {
      "cell_type": "code",
      "source": [
        "print(x)\n",
        "print(y)"
      ],
      "metadata": {
        "colab": {
          "base_uri": "https://localhost:8080/"
        },
        "id": "5ZEohIVX6W8N",
        "outputId": "fd8aa261-ea5d-4202-a3aa-ad05a52c5d0d"
      },
      "execution_count": null,
      "outputs": [
        {
          "output_type": "stream",
          "name": "stdout",
          "text": [
            "tensor(3.7000, requires_grad=True)\n",
            "tensor(48.4700, grad_fn=<AddBackward0>)\n"
          ]
        }
      ]
    },
    {
      "cell_type": "code",
      "source": [
        "# option 1\n",
        "x.requires_grad_(False)\n",
        "print(x)"
      ],
      "metadata": {
        "colab": {
          "base_uri": "https://localhost:8080/"
        },
        "id": "r4pTO4ko6Zkv",
        "outputId": "871337e6-5ab7-4824-83f5-5169b082f859"
      },
      "execution_count": null,
      "outputs": [
        {
          "output_type": "stream",
          "name": "stdout",
          "text": [
            "tensor(3.7000)\n"
          ]
        }
      ]
    },
    {
      "cell_type": "code",
      "source": [
        "y = 3*(x**2) + 2*x\n",
        "print(y)"
      ],
      "metadata": {
        "colab": {
          "base_uri": "https://localhost:8080/"
        },
        "id": "Gj3HN9Ow6sOf",
        "outputId": "a2e32327-27fe-498e-f36a-a798de4707ff"
      },
      "execution_count": null,
      "outputs": [
        {
          "output_type": "stream",
          "name": "stdout",
          "text": [
            "tensor(48.4700)\n"
          ]
        }
      ]
    },
    {
      "cell_type": "code",
      "source": [
        "# 2nd option - detach() => Creates a new tensor that shares data with the original\n",
        "# tensor but detaches it from the computation graph. This tensor doesn't track gradients.\n",
        "\n",
        "x = torch.tensor(1.4,requires_grad=True)\n",
        "print(x)\n",
        "\n",
        "y = x.detach()\n",
        "print(y)"
      ],
      "metadata": {
        "colab": {
          "base_uri": "https://localhost:8080/"
        },
        "id": "6OUdym9L6t1Z",
        "outputId": "5d58a145-6b7a-4b60-fd60-74c45577c74b"
      },
      "execution_count": null,
      "outputs": [
        {
          "output_type": "stream",
          "name": "stdout",
          "text": [
            "tensor(1.4000, requires_grad=True)\n",
            "tensor(1.4000)\n"
          ]
        }
      ]
    },
    {
      "cell_type": "code",
      "source": [
        "z1 = x ** 3\n",
        "z2 = y ** 3"
      ],
      "metadata": {
        "id": "UXr6dnUU8pxN"
      },
      "execution_count": null,
      "outputs": []
    },
    {
      "cell_type": "code",
      "source": [
        "print(z1)\n",
        "print(z2)"
      ],
      "metadata": {
        "colab": {
          "base_uri": "https://localhost:8080/"
        },
        "id": "7GUfVBXq8vZv",
        "outputId": "931dbe22-4a9b-4441-f6b9-e1ff2944145e"
      },
      "execution_count": null,
      "outputs": [
        {
          "output_type": "stream",
          "name": "stdout",
          "text": [
            "tensor(2.7440, grad_fn=<PowBackward0>)\n",
            "tensor(2.7440)\n"
          ]
        }
      ]
    },
    {
      "cell_type": "code",
      "source": [
        "z1.backward()"
      ],
      "metadata": {
        "id": "SEz0vtDU8zqh"
      },
      "execution_count": null,
      "outputs": []
    },
    {
      "cell_type": "code",
      "source": [
        "z2.backward()"
      ],
      "metadata": {
        "colab": {
          "base_uri": "https://localhost:8080/",
          "height": 356
        },
        "id": "7IyiyhLB84Sh",
        "outputId": "7c88b67d-842b-4ac4-e589-9c6cd69bf534"
      },
      "execution_count": null,
      "outputs": [
        {
          "output_type": "error",
          "ename": "RuntimeError",
          "evalue": "element 0 of tensors does not require grad and does not have a grad_fn",
          "traceback": [
            "\u001b[0;31m---------------------------------------------------------------------------\u001b[0m",
            "\u001b[0;31mRuntimeError\u001b[0m                              Traceback (most recent call last)",
            "\u001b[0;32m<ipython-input-29-90437f8c3dba>\u001b[0m in \u001b[0;36m<cell line: 1>\u001b[0;34m()\u001b[0m\n\u001b[0;32m----> 1\u001b[0;31m \u001b[0mz2\u001b[0m\u001b[0;34m.\u001b[0m\u001b[0mbackward\u001b[0m\u001b[0;34m(\u001b[0m\u001b[0;34m)\u001b[0m\u001b[0;34m\u001b[0m\u001b[0;34m\u001b[0m\u001b[0m\n\u001b[0m",
            "\u001b[0;32m/usr/local/lib/python3.10/dist-packages/torch/_tensor.py\u001b[0m in \u001b[0;36mbackward\u001b[0;34m(self, gradient, retain_graph, create_graph, inputs)\u001b[0m\n\u001b[1;32m    579\u001b[0m                 \u001b[0minputs\u001b[0m\u001b[0;34m=\u001b[0m\u001b[0minputs\u001b[0m\u001b[0;34m,\u001b[0m\u001b[0;34m\u001b[0m\u001b[0;34m\u001b[0m\u001b[0m\n\u001b[1;32m    580\u001b[0m             )\n\u001b[0;32m--> 581\u001b[0;31m         torch.autograd.backward(\n\u001b[0m\u001b[1;32m    582\u001b[0m             \u001b[0mself\u001b[0m\u001b[0;34m,\u001b[0m \u001b[0mgradient\u001b[0m\u001b[0;34m,\u001b[0m \u001b[0mretain_graph\u001b[0m\u001b[0;34m,\u001b[0m \u001b[0mcreate_graph\u001b[0m\u001b[0;34m,\u001b[0m \u001b[0minputs\u001b[0m\u001b[0;34m=\u001b[0m\u001b[0minputs\u001b[0m\u001b[0;34m\u001b[0m\u001b[0;34m\u001b[0m\u001b[0m\n\u001b[1;32m    583\u001b[0m         )\n",
            "\u001b[0;32m/usr/local/lib/python3.10/dist-packages/torch/autograd/__init__.py\u001b[0m in \u001b[0;36mbackward\u001b[0;34m(tensors, grad_tensors, retain_graph, create_graph, grad_variables, inputs)\u001b[0m\n\u001b[1;32m    345\u001b[0m     \u001b[0;31m# some Python versions print out the first line of a multi-line function\u001b[0m\u001b[0;34m\u001b[0m\u001b[0;34m\u001b[0m\u001b[0m\n\u001b[1;32m    346\u001b[0m     \u001b[0;31m# calls in the traceback and some print out the last line\u001b[0m\u001b[0;34m\u001b[0m\u001b[0;34m\u001b[0m\u001b[0m\n\u001b[0;32m--> 347\u001b[0;31m     _engine_run_backward(\n\u001b[0m\u001b[1;32m    348\u001b[0m         \u001b[0mtensors\u001b[0m\u001b[0;34m,\u001b[0m\u001b[0;34m\u001b[0m\u001b[0;34m\u001b[0m\u001b[0m\n\u001b[1;32m    349\u001b[0m         \u001b[0mgrad_tensors_\u001b[0m\u001b[0;34m,\u001b[0m\u001b[0;34m\u001b[0m\u001b[0;34m\u001b[0m\u001b[0m\n",
            "\u001b[0;32m/usr/local/lib/python3.10/dist-packages/torch/autograd/graph.py\u001b[0m in \u001b[0;36m_engine_run_backward\u001b[0;34m(t_outputs, *args, **kwargs)\u001b[0m\n\u001b[1;32m    823\u001b[0m         \u001b[0munregister_hooks\u001b[0m \u001b[0;34m=\u001b[0m \u001b[0m_register_logging_hooks_on_whole_graph\u001b[0m\u001b[0;34m(\u001b[0m\u001b[0mt_outputs\u001b[0m\u001b[0;34m)\u001b[0m\u001b[0;34m\u001b[0m\u001b[0;34m\u001b[0m\u001b[0m\n\u001b[1;32m    824\u001b[0m     \u001b[0;32mtry\u001b[0m\u001b[0;34m:\u001b[0m\u001b[0;34m\u001b[0m\u001b[0;34m\u001b[0m\u001b[0m\n\u001b[0;32m--> 825\u001b[0;31m         return Variable._execution_engine.run_backward(  # Calls into the C++ engine to run the backward pass\n\u001b[0m\u001b[1;32m    826\u001b[0m             \u001b[0mt_outputs\u001b[0m\u001b[0;34m,\u001b[0m \u001b[0;34m*\u001b[0m\u001b[0margs\u001b[0m\u001b[0;34m,\u001b[0m \u001b[0;34m**\u001b[0m\u001b[0mkwargs\u001b[0m\u001b[0;34m\u001b[0m\u001b[0;34m\u001b[0m\u001b[0m\n\u001b[1;32m    827\u001b[0m         )  # Calls into the C++ engine to run the backward pass\n",
            "\u001b[0;31mRuntimeError\u001b[0m: element 0 of tensors does not require grad and does not have a grad_fn"
          ]
        }
      ]
    },
    {
      "cell_type": "code",
      "source": [
        "x.grad"
      ],
      "metadata": {
        "colab": {
          "base_uri": "https://localhost:8080/"
        },
        "id": "x3OYsiGf86OL",
        "outputId": "f0c5a475-4020-4833-93b7-909f11fa03b4"
      },
      "execution_count": null,
      "outputs": [
        {
          "output_type": "execute_result",
          "data": {
            "text/plain": [
              "tensor(5.8800)"
            ]
          },
          "metadata": {},
          "execution_count": 31
        }
      ]
    },
    {
      "cell_type": "code",
      "source": [
        "print(y.grad)"
      ],
      "metadata": {
        "colab": {
          "base_uri": "https://localhost:8080/"
        },
        "id": "DUZTACSS9FY2",
        "outputId": "6030d973-0648-40ea-cfac-bb96a8bbf53c"
      },
      "execution_count": null,
      "outputs": [
        {
          "output_type": "stream",
          "name": "stdout",
          "text": [
            "None\n"
          ]
        }
      ]
    },
    {
      "cell_type": "code",
      "source": [
        "# option3 - no_grad()\n",
        "\"\"\"\n",
        "A context manager that temporarily disables gradient tracking for all tensors\n",
        "within its scope.\n",
        "\n",
        "Gradients are not computed for any operation inside the torch.no_grad() block,\n",
        "even for tensors that have requires_grad=True\n",
        "\"\"\"\n",
        "\n",
        "\n",
        "tr1 = torch.tensor(-1.0,requires_grad=True)\n",
        "print(tr1)"
      ],
      "metadata": {
        "colab": {
          "base_uri": "https://localhost:8080/"
        },
        "id": "mFuEcl469GRD",
        "outputId": "6e100e68-8781-4998-f524-950876f180fc"
      },
      "execution_count": null,
      "outputs": [
        {
          "output_type": "stream",
          "name": "stdout",
          "text": [
            "tensor(-1., requires_grad=True)\n"
          ]
        }
      ]
    },
    {
      "cell_type": "code",
      "source": [
        "with torch.no_grad():\n",
        "    tr2 = tr1**2\n",
        "    print(tr2)"
      ],
      "metadata": {
        "colab": {
          "base_uri": "https://localhost:8080/"
        },
        "id": "dITe_nmQ9yXm",
        "outputId": "74f3e345-8b54-4a6b-f37d-ee9196f4a367"
      },
      "execution_count": null,
      "outputs": [
        {
          "output_type": "stream",
          "name": "stdout",
          "text": [
            "tensor(1.)\n"
          ]
        }
      ]
    },
    {
      "cell_type": "code",
      "source": [
        "tr2.backward()"
      ],
      "metadata": {
        "colab": {
          "base_uri": "https://localhost:8080/",
          "height": 356
        },
        "id": "CoErXLd494Z4",
        "outputId": "ff17c55d-ed44-4b59-8bd8-17076884d534"
      },
      "execution_count": null,
      "outputs": [
        {
          "output_type": "error",
          "ename": "RuntimeError",
          "evalue": "element 0 of tensors does not require grad and does not have a grad_fn",
          "traceback": [
            "\u001b[0;31m---------------------------------------------------------------------------\u001b[0m",
            "\u001b[0;31mRuntimeError\u001b[0m                              Traceback (most recent call last)",
            "\u001b[0;32m<ipython-input-36-e95fce368878>\u001b[0m in \u001b[0;36m<cell line: 1>\u001b[0;34m()\u001b[0m\n\u001b[0;32m----> 1\u001b[0;31m \u001b[0mtr2\u001b[0m\u001b[0;34m.\u001b[0m\u001b[0mbackward\u001b[0m\u001b[0;34m(\u001b[0m\u001b[0;34m)\u001b[0m\u001b[0;34m\u001b[0m\u001b[0;34m\u001b[0m\u001b[0m\n\u001b[0m",
            "\u001b[0;32m/usr/local/lib/python3.10/dist-packages/torch/_tensor.py\u001b[0m in \u001b[0;36mbackward\u001b[0;34m(self, gradient, retain_graph, create_graph, inputs)\u001b[0m\n\u001b[1;32m    579\u001b[0m                 \u001b[0minputs\u001b[0m\u001b[0;34m=\u001b[0m\u001b[0minputs\u001b[0m\u001b[0;34m,\u001b[0m\u001b[0;34m\u001b[0m\u001b[0;34m\u001b[0m\u001b[0m\n\u001b[1;32m    580\u001b[0m             )\n\u001b[0;32m--> 581\u001b[0;31m         torch.autograd.backward(\n\u001b[0m\u001b[1;32m    582\u001b[0m             \u001b[0mself\u001b[0m\u001b[0;34m,\u001b[0m \u001b[0mgradient\u001b[0m\u001b[0;34m,\u001b[0m \u001b[0mretain_graph\u001b[0m\u001b[0;34m,\u001b[0m \u001b[0mcreate_graph\u001b[0m\u001b[0;34m,\u001b[0m \u001b[0minputs\u001b[0m\u001b[0;34m=\u001b[0m\u001b[0minputs\u001b[0m\u001b[0;34m\u001b[0m\u001b[0;34m\u001b[0m\u001b[0m\n\u001b[1;32m    583\u001b[0m         )\n",
            "\u001b[0;32m/usr/local/lib/python3.10/dist-packages/torch/autograd/__init__.py\u001b[0m in \u001b[0;36mbackward\u001b[0;34m(tensors, grad_tensors, retain_graph, create_graph, grad_variables, inputs)\u001b[0m\n\u001b[1;32m    345\u001b[0m     \u001b[0;31m# some Python versions print out the first line of a multi-line function\u001b[0m\u001b[0;34m\u001b[0m\u001b[0;34m\u001b[0m\u001b[0m\n\u001b[1;32m    346\u001b[0m     \u001b[0;31m# calls in the traceback and some print out the last line\u001b[0m\u001b[0;34m\u001b[0m\u001b[0;34m\u001b[0m\u001b[0m\n\u001b[0;32m--> 347\u001b[0;31m     _engine_run_backward(\n\u001b[0m\u001b[1;32m    348\u001b[0m         \u001b[0mtensors\u001b[0m\u001b[0;34m,\u001b[0m\u001b[0;34m\u001b[0m\u001b[0;34m\u001b[0m\u001b[0m\n\u001b[1;32m    349\u001b[0m         \u001b[0mgrad_tensors_\u001b[0m\u001b[0;34m,\u001b[0m\u001b[0;34m\u001b[0m\u001b[0;34m\u001b[0m\u001b[0m\n",
            "\u001b[0;32m/usr/local/lib/python3.10/dist-packages/torch/autograd/graph.py\u001b[0m in \u001b[0;36m_engine_run_backward\u001b[0;34m(t_outputs, *args, **kwargs)\u001b[0m\n\u001b[1;32m    823\u001b[0m         \u001b[0munregister_hooks\u001b[0m \u001b[0;34m=\u001b[0m \u001b[0m_register_logging_hooks_on_whole_graph\u001b[0m\u001b[0;34m(\u001b[0m\u001b[0mt_outputs\u001b[0m\u001b[0;34m)\u001b[0m\u001b[0;34m\u001b[0m\u001b[0;34m\u001b[0m\u001b[0m\n\u001b[1;32m    824\u001b[0m     \u001b[0;32mtry\u001b[0m\u001b[0;34m:\u001b[0m\u001b[0;34m\u001b[0m\u001b[0;34m\u001b[0m\u001b[0m\n\u001b[0;32m--> 825\u001b[0;31m         return Variable._execution_engine.run_backward(  # Calls into the C++ engine to run the backward pass\n\u001b[0m\u001b[1;32m    826\u001b[0m             \u001b[0mt_outputs\u001b[0m\u001b[0;34m,\u001b[0m \u001b[0;34m*\u001b[0m\u001b[0margs\u001b[0m\u001b[0;34m,\u001b[0m \u001b[0;34m**\u001b[0m\u001b[0mkwargs\u001b[0m\u001b[0;34m\u001b[0m\u001b[0;34m\u001b[0m\u001b[0m\n\u001b[1;32m    827\u001b[0m         )  # Calls into the C++ engine to run the backward pass\n",
            "\u001b[0;31mRuntimeError\u001b[0m: element 0 of tensors does not require grad and does not have a grad_fn"
          ]
        }
      ]
    },
    {
      "cell_type": "code",
      "source": [
        "tr3 = tr1**3\n",
        "print(tr3)"
      ],
      "metadata": {
        "colab": {
          "base_uri": "https://localhost:8080/"
        },
        "id": "dFKlxfEN98zo",
        "outputId": "28bce9d5-2079-46dc-b7bb-71b0418bda10"
      },
      "execution_count": null,
      "outputs": [
        {
          "output_type": "stream",
          "name": "stdout",
          "text": [
            "tensor(-1., grad_fn=<PowBackward0>)\n"
          ]
        }
      ]
    },
    {
      "cell_type": "code",
      "source": [
        "tr3.backward()"
      ],
      "metadata": {
        "id": "KJlmo95o-JeZ"
      },
      "execution_count": null,
      "outputs": []
    },
    {
      "cell_type": "code",
      "source": [
        "tr1.grad"
      ],
      "metadata": {
        "colab": {
          "base_uri": "https://localhost:8080/"
        },
        "id": "RuwBYb8M-UDL",
        "outputId": "f90ddb7a-887a-4af5-e2ff-fd3741a258f7"
      },
      "execution_count": null,
      "outputs": [
        {
          "output_type": "execute_result",
          "data": {
            "text/plain": [
              "tensor(3.)"
            ]
          },
          "metadata": {},
          "execution_count": 39
        }
      ]
    }
  ]
}